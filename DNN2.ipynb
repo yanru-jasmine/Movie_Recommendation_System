{
  "cells": [
    {
      "cell_type": "code",
      "execution_count": 4,
      "metadata": {
        "colab": {
          "base_uri": "https://localhost:8080/"
        },
        "id": "16pCcnfipZpK",
        "outputId": "0f9505c6-cd9f-496a-b2d9-0acd950bc5f3"
      },
      "outputs": [
        {
          "output_type": "stream",
          "name": "stdout",
          "text": [
            "Drive already mounted at /content/gdrive; to attempt to forcibly remount, call drive.mount(\"/content/gdrive\", force_remount=True).\n"
          ]
        }
      ],
      "source": [
        "import os\n",
        "from google.colab import drive\n",
        "drive.mount('/content/gdrive')\n",
        "os.chdir('/content/gdrive/My Drive/AML Project Group 20')"
      ]
    },
    {
      "cell_type": "markdown",
      "source": [
        "This notebook is partially different from DNN.ipynb. This notebook Trains a regression neural network for predicting the value of ratings (as opposed to the classification approach in DNN.ipynb) . Based on these predicted values, recommendations are made to the user.\n"
      ],
      "metadata": {
        "id": "XTl0z68dZTm9"
      }
    },
    {
      "cell_type": "code",
      "execution_count": 1,
      "metadata": {
        "id": "SRs2HwkNklRS"
      },
      "outputs": [],
      "source": [
        "import pandas as pd\n",
        "import numpy as np\n",
        "import matplotlib.pyplot as plt\n",
        "import keras\n",
        "from keras.layers import Input, Embedding, Dense, Dropout, BatchNormalization, Concatenate, Flatten\n",
        "from keras.models import Model\n",
        "from keras.losses import SparseCategoricalCrossentropy\n",
        "from keras.regularizers import l2\n",
        "from sklearn.model_selection import train_test_split\n",
        "from sklearn.preprocessing import LabelEncoder\n",
        "import warnings\n",
        "warnings.filterwarnings('ignore')"
      ]
    },
    {
      "cell_type": "code",
      "execution_count": 2,
      "metadata": {
        "id": "mqwrq7tBmU0t"
      },
      "outputs": [],
      "source": [
        "from collections import Counter"
      ]
    },
    {
      "cell_type": "code",
      "execution_count": 5,
      "metadata": {
        "id": "wCTuS2e5k53N"
      },
      "outputs": [],
      "source": [
        "data_dir = 'ml-25m/'\n",
        "movies_df = pd.read_csv(data_dir + 'movies.csv')\n",
        "ratings_df = pd.read_csv(data_dir + 'ratings.csv')"
      ]
    },
    {
      "cell_type": "code",
      "source": [
        "#INPUT\n",
        "uid, top_n = 350, 15"
      ],
      "metadata": {
        "id": "73LpMyEXVD0b"
      },
      "execution_count": 6,
      "outputs": []
    },
    {
      "cell_type": "markdown",
      "metadata": {
        "id": "fPbbwZ0spKdG"
      },
      "source": [
        "**Ratings Data File Structure (ratings.csv)**\n",
        "\n",
        "Each line of this file after the header row represents one rating of one movie by one user, and has the following format:  \n",
        "\n",
        "- The lines within this file are ordered first by userId, then, within user, by movieId.\n",
        "- Ratings are made on a 5-star scale, with half-star increments (0.5 stars - 5.0 stars).\n",
        "- Timestamps represent seconds since midnight Coordinated Universal Time (UTC) of January 1, 1970."
      ]
    },
    {
      "cell_type": "code",
      "execution_count": null,
      "metadata": {
        "colab": {
          "base_uri": "https://localhost:8080/",
          "height": 143
        },
        "id": "CKF831QHnJyc",
        "outputId": "96c69470-d379-4854-b041-8202eccb77e0",
        "scrolled": true
      },
      "outputs": [
        {
          "output_type": "execute_result",
          "data": {
            "text/plain": [
              "   userId  movieId  rating   timestamp\n",
              "0       1      296     5.0  1147880044\n",
              "1       1      306     3.5  1147868817\n",
              "2       1      307     5.0  1147868828"
            ],
            "text/html": [
              "\n",
              "  <div id=\"df-ab87a439-821d-444f-b268-5422a83e9f89\">\n",
              "    <div class=\"colab-df-container\">\n",
              "      <div>\n",
              "<style scoped>\n",
              "    .dataframe tbody tr th:only-of-type {\n",
              "        vertical-align: middle;\n",
              "    }\n",
              "\n",
              "    .dataframe tbody tr th {\n",
              "        vertical-align: top;\n",
              "    }\n",
              "\n",
              "    .dataframe thead th {\n",
              "        text-align: right;\n",
              "    }\n",
              "</style>\n",
              "<table border=\"1\" class=\"dataframe\">\n",
              "  <thead>\n",
              "    <tr style=\"text-align: right;\">\n",
              "      <th></th>\n",
              "      <th>userId</th>\n",
              "      <th>movieId</th>\n",
              "      <th>rating</th>\n",
              "      <th>timestamp</th>\n",
              "    </tr>\n",
              "  </thead>\n",
              "  <tbody>\n",
              "    <tr>\n",
              "      <th>0</th>\n",
              "      <td>1</td>\n",
              "      <td>296</td>\n",
              "      <td>5.0</td>\n",
              "      <td>1147880044</td>\n",
              "    </tr>\n",
              "    <tr>\n",
              "      <th>1</th>\n",
              "      <td>1</td>\n",
              "      <td>306</td>\n",
              "      <td>3.5</td>\n",
              "      <td>1147868817</td>\n",
              "    </tr>\n",
              "    <tr>\n",
              "      <th>2</th>\n",
              "      <td>1</td>\n",
              "      <td>307</td>\n",
              "      <td>5.0</td>\n",
              "      <td>1147868828</td>\n",
              "    </tr>\n",
              "  </tbody>\n",
              "</table>\n",
              "</div>\n",
              "      <button class=\"colab-df-convert\" onclick=\"convertToInteractive('df-ab87a439-821d-444f-b268-5422a83e9f89')\"\n",
              "              title=\"Convert this dataframe to an interactive table.\"\n",
              "              style=\"display:none;\">\n",
              "        \n",
              "  <svg xmlns=\"http://www.w3.org/2000/svg\" height=\"24px\"viewBox=\"0 0 24 24\"\n",
              "       width=\"24px\">\n",
              "    <path d=\"M0 0h24v24H0V0z\" fill=\"none\"/>\n",
              "    <path d=\"M18.56 5.44l.94 2.06.94-2.06 2.06-.94-2.06-.94-.94-2.06-.94 2.06-2.06.94zm-11 1L8.5 8.5l.94-2.06 2.06-.94-2.06-.94L8.5 2.5l-.94 2.06-2.06.94zm10 10l.94 2.06.94-2.06 2.06-.94-2.06-.94-.94-2.06-.94 2.06-2.06.94z\"/><path d=\"M17.41 7.96l-1.37-1.37c-.4-.4-.92-.59-1.43-.59-.52 0-1.04.2-1.43.59L10.3 9.45l-7.72 7.72c-.78.78-.78 2.05 0 2.83L4 21.41c.39.39.9.59 1.41.59.51 0 1.02-.2 1.41-.59l7.78-7.78 2.81-2.81c.8-.78.8-2.07 0-2.86zM5.41 20L4 18.59l7.72-7.72 1.47 1.35L5.41 20z\"/>\n",
              "  </svg>\n",
              "      </button>\n",
              "      \n",
              "  <style>\n",
              "    .colab-df-container {\n",
              "      display:flex;\n",
              "      flex-wrap:wrap;\n",
              "      gap: 12px;\n",
              "    }\n",
              "\n",
              "    .colab-df-convert {\n",
              "      background-color: #E8F0FE;\n",
              "      border: none;\n",
              "      border-radius: 50%;\n",
              "      cursor: pointer;\n",
              "      display: none;\n",
              "      fill: #1967D2;\n",
              "      height: 32px;\n",
              "      padding: 0 0 0 0;\n",
              "      width: 32px;\n",
              "    }\n",
              "\n",
              "    .colab-df-convert:hover {\n",
              "      background-color: #E2EBFA;\n",
              "      box-shadow: 0px 1px 2px rgba(60, 64, 67, 0.3), 0px 1px 3px 1px rgba(60, 64, 67, 0.15);\n",
              "      fill: #174EA6;\n",
              "    }\n",
              "\n",
              "    [theme=dark] .colab-df-convert {\n",
              "      background-color: #3B4455;\n",
              "      fill: #D2E3FC;\n",
              "    }\n",
              "\n",
              "    [theme=dark] .colab-df-convert:hover {\n",
              "      background-color: #434B5C;\n",
              "      box-shadow: 0px 1px 3px 1px rgba(0, 0, 0, 0.15);\n",
              "      filter: drop-shadow(0px 1px 2px rgba(0, 0, 0, 0.3));\n",
              "      fill: #FFFFFF;\n",
              "    }\n",
              "  </style>\n",
              "\n",
              "      <script>\n",
              "        const buttonEl =\n",
              "          document.querySelector('#df-ab87a439-821d-444f-b268-5422a83e9f89 button.colab-df-convert');\n",
              "        buttonEl.style.display =\n",
              "          google.colab.kernel.accessAllowed ? 'block' : 'none';\n",
              "\n",
              "        async function convertToInteractive(key) {\n",
              "          const element = document.querySelector('#df-ab87a439-821d-444f-b268-5422a83e9f89');\n",
              "          const dataTable =\n",
              "            await google.colab.kernel.invokeFunction('convertToInteractive',\n",
              "                                                     [key], {});\n",
              "          if (!dataTable) return;\n",
              "\n",
              "          const docLinkHtml = 'Like what you see? Visit the ' +\n",
              "            '<a target=\"_blank\" href=https://colab.research.google.com/notebooks/data_table.ipynb>data table notebook</a>'\n",
              "            + ' to learn more about interactive tables.';\n",
              "          element.innerHTML = '';\n",
              "          dataTable['output_type'] = 'display_data';\n",
              "          await google.colab.output.renderOutput(dataTable, element);\n",
              "          const docLink = document.createElement('div');\n",
              "          docLink.innerHTML = docLinkHtml;\n",
              "          element.appendChild(docLink);\n",
              "        }\n",
              "      </script>\n",
              "    </div>\n",
              "  </div>\n",
              "  "
            ]
          },
          "metadata": {},
          "execution_count": 6
        }
      ],
      "source": [
        "ratings_df.head(3)"
      ]
    },
    {
      "cell_type": "code",
      "execution_count": null,
      "metadata": {
        "colab": {
          "base_uri": "https://localhost:8080/"
        },
        "id": "ewxWlRLjpKdI",
        "outputId": "ca8a55c0-348e-401a-87d7-e5a0b8e2e302"
      },
      "outputs": [
        {
          "output_type": "execute_result",
          "data": {
            "text/plain": [
              "25000095"
            ]
          },
          "metadata": {},
          "execution_count": 7
        }
      ],
      "source": [
        "len(ratings_df)"
      ]
    },
    {
      "cell_type": "code",
      "source": [
        "# use a subset to train DNN model\n",
        "ratings_df1 = ratings_df[ratings_df.userId < 2000]"
      ],
      "metadata": {
        "id": "8WbbnUVzLQcD"
      },
      "execution_count": 7,
      "outputs": []
    },
    {
      "cell_type": "code",
      "source": [
        "len(ratings_df1)"
      ],
      "metadata": {
        "colab": {
          "base_uri": "https://localhost:8080/"
        },
        "id": "xCQOomBHLfaD",
        "outputId": "a0ceb331-84b2-4f58-d3cb-7bb56c16a33f"
      },
      "execution_count": null,
      "outputs": [
        {
          "output_type": "execute_result",
          "data": {
            "text/plain": [
              "287678"
            ]
          },
          "metadata": {},
          "execution_count": 9
        }
      ]
    },
    {
      "cell_type": "markdown",
      "metadata": {
        "id": "b2FqwZ8npKdK"
      },
      "source": [
        "**Movies Data File Structure (movies.csv)**  \n",
        "\n",
        "Movie information is contained in the file movies.csv. Each line of this file after the header row represents one movie, and has the following format:\n",
        "\n",
        "- Movie titles are entered manually or imported from https://www.themoviedb.org/, and include the year of release in parentheses. Errors and inconsistencies may exist in these titles.\n",
        "\n",
        "- Genres are a pipe-separated list, and are selected from the following: Action\n",
        "Adventure\n",
        "Animation\n",
        "Children's\n",
        "Comedy\n",
        "Crime\n",
        "Documentary\n",
        "Drama\n",
        "Fantasy\n",
        "Film-Noir\n",
        "Horror\n",
        "Musical\n",
        "Mystery\n",
        "Romance\n",
        "Sci-Fi\n",
        "Thriller\n",
        "War\n",
        "Western\n",
        "(no genres listed)"
      ]
    },
    {
      "cell_type": "code",
      "execution_count": null,
      "metadata": {
        "colab": {
          "base_uri": "https://localhost:8080/",
          "height": 143
        },
        "id": "DsNq4XXjpKdL",
        "outputId": "8ab35ab4-5f4b-4cfa-9ac7-88019bec2f1a"
      },
      "outputs": [
        {
          "output_type": "execute_result",
          "data": {
            "text/plain": [
              "   movieId                    title  \\\n",
              "0        1         Toy Story (1995)   \n",
              "1        2           Jumanji (1995)   \n",
              "2        3  Grumpier Old Men (1995)   \n",
              "\n",
              "                                        genres  \n",
              "0  Adventure|Animation|Children|Comedy|Fantasy  \n",
              "1                   Adventure|Children|Fantasy  \n",
              "2                               Comedy|Romance  "
            ],
            "text/html": [
              "\n",
              "  <div id=\"df-7aeb5803-f79a-4226-9c23-092ce5ecf6b1\">\n",
              "    <div class=\"colab-df-container\">\n",
              "      <div>\n",
              "<style scoped>\n",
              "    .dataframe tbody tr th:only-of-type {\n",
              "        vertical-align: middle;\n",
              "    }\n",
              "\n",
              "    .dataframe tbody tr th {\n",
              "        vertical-align: top;\n",
              "    }\n",
              "\n",
              "    .dataframe thead th {\n",
              "        text-align: right;\n",
              "    }\n",
              "</style>\n",
              "<table border=\"1\" class=\"dataframe\">\n",
              "  <thead>\n",
              "    <tr style=\"text-align: right;\">\n",
              "      <th></th>\n",
              "      <th>movieId</th>\n",
              "      <th>title</th>\n",
              "      <th>genres</th>\n",
              "    </tr>\n",
              "  </thead>\n",
              "  <tbody>\n",
              "    <tr>\n",
              "      <th>0</th>\n",
              "      <td>1</td>\n",
              "      <td>Toy Story (1995)</td>\n",
              "      <td>Adventure|Animation|Children|Comedy|Fantasy</td>\n",
              "    </tr>\n",
              "    <tr>\n",
              "      <th>1</th>\n",
              "      <td>2</td>\n",
              "      <td>Jumanji (1995)</td>\n",
              "      <td>Adventure|Children|Fantasy</td>\n",
              "    </tr>\n",
              "    <tr>\n",
              "      <th>2</th>\n",
              "      <td>3</td>\n",
              "      <td>Grumpier Old Men (1995)</td>\n",
              "      <td>Comedy|Romance</td>\n",
              "    </tr>\n",
              "  </tbody>\n",
              "</table>\n",
              "</div>\n",
              "      <button class=\"colab-df-convert\" onclick=\"convertToInteractive('df-7aeb5803-f79a-4226-9c23-092ce5ecf6b1')\"\n",
              "              title=\"Convert this dataframe to an interactive table.\"\n",
              "              style=\"display:none;\">\n",
              "        \n",
              "  <svg xmlns=\"http://www.w3.org/2000/svg\" height=\"24px\"viewBox=\"0 0 24 24\"\n",
              "       width=\"24px\">\n",
              "    <path d=\"M0 0h24v24H0V0z\" fill=\"none\"/>\n",
              "    <path d=\"M18.56 5.44l.94 2.06.94-2.06 2.06-.94-2.06-.94-.94-2.06-.94 2.06-2.06.94zm-11 1L8.5 8.5l.94-2.06 2.06-.94-2.06-.94L8.5 2.5l-.94 2.06-2.06.94zm10 10l.94 2.06.94-2.06 2.06-.94-2.06-.94-.94-2.06-.94 2.06-2.06.94z\"/><path d=\"M17.41 7.96l-1.37-1.37c-.4-.4-.92-.59-1.43-.59-.52 0-1.04.2-1.43.59L10.3 9.45l-7.72 7.72c-.78.78-.78 2.05 0 2.83L4 21.41c.39.39.9.59 1.41.59.51 0 1.02-.2 1.41-.59l7.78-7.78 2.81-2.81c.8-.78.8-2.07 0-2.86zM5.41 20L4 18.59l7.72-7.72 1.47 1.35L5.41 20z\"/>\n",
              "  </svg>\n",
              "      </button>\n",
              "      \n",
              "  <style>\n",
              "    .colab-df-container {\n",
              "      display:flex;\n",
              "      flex-wrap:wrap;\n",
              "      gap: 12px;\n",
              "    }\n",
              "\n",
              "    .colab-df-convert {\n",
              "      background-color: #E8F0FE;\n",
              "      border: none;\n",
              "      border-radius: 50%;\n",
              "      cursor: pointer;\n",
              "      display: none;\n",
              "      fill: #1967D2;\n",
              "      height: 32px;\n",
              "      padding: 0 0 0 0;\n",
              "      width: 32px;\n",
              "    }\n",
              "\n",
              "    .colab-df-convert:hover {\n",
              "      background-color: #E2EBFA;\n",
              "      box-shadow: 0px 1px 2px rgba(60, 64, 67, 0.3), 0px 1px 3px 1px rgba(60, 64, 67, 0.15);\n",
              "      fill: #174EA6;\n",
              "    }\n",
              "\n",
              "    [theme=dark] .colab-df-convert {\n",
              "      background-color: #3B4455;\n",
              "      fill: #D2E3FC;\n",
              "    }\n",
              "\n",
              "    [theme=dark] .colab-df-convert:hover {\n",
              "      background-color: #434B5C;\n",
              "      box-shadow: 0px 1px 3px 1px rgba(0, 0, 0, 0.15);\n",
              "      filter: drop-shadow(0px 1px 2px rgba(0, 0, 0, 0.3));\n",
              "      fill: #FFFFFF;\n",
              "    }\n",
              "  </style>\n",
              "\n",
              "      <script>\n",
              "        const buttonEl =\n",
              "          document.querySelector('#df-7aeb5803-f79a-4226-9c23-092ce5ecf6b1 button.colab-df-convert');\n",
              "        buttonEl.style.display =\n",
              "          google.colab.kernel.accessAllowed ? 'block' : 'none';\n",
              "\n",
              "        async function convertToInteractive(key) {\n",
              "          const element = document.querySelector('#df-7aeb5803-f79a-4226-9c23-092ce5ecf6b1');\n",
              "          const dataTable =\n",
              "            await google.colab.kernel.invokeFunction('convertToInteractive',\n",
              "                                                     [key], {});\n",
              "          if (!dataTable) return;\n",
              "\n",
              "          const docLinkHtml = 'Like what you see? Visit the ' +\n",
              "            '<a target=\"_blank\" href=https://colab.research.google.com/notebooks/data_table.ipynb>data table notebook</a>'\n",
              "            + ' to learn more about interactive tables.';\n",
              "          element.innerHTML = '';\n",
              "          dataTable['output_type'] = 'display_data';\n",
              "          await google.colab.output.renderOutput(dataTable, element);\n",
              "          const docLink = document.createElement('div');\n",
              "          docLink.innerHTML = docLinkHtml;\n",
              "          element.appendChild(docLink);\n",
              "        }\n",
              "      </script>\n",
              "    </div>\n",
              "  </div>\n",
              "  "
            ]
          },
          "metadata": {},
          "execution_count": 10
        }
      ],
      "source": [
        "movies_df.head(3)"
      ]
    },
    {
      "cell_type": "code",
      "source": [
        "movies_df1 = movies_df[['movieId','title']]\n",
        "movies_df1.head(3)"
      ],
      "metadata": {
        "colab": {
          "base_uri": "https://localhost:8080/",
          "height": 143
        },
        "id": "2nvbHIS1H_8W",
        "outputId": "5c92f6bb-3049-4897-aed0-8f3b17cc5de2"
      },
      "execution_count": 8,
      "outputs": [
        {
          "output_type": "execute_result",
          "data": {
            "text/plain": [
              "   movieId                    title\n",
              "0        1         Toy Story (1995)\n",
              "1        2           Jumanji (1995)\n",
              "2        3  Grumpier Old Men (1995)"
            ],
            "text/html": [
              "\n",
              "  <div id=\"df-57ee83fd-b460-4a37-bdb7-6a3df014bb68\">\n",
              "    <div class=\"colab-df-container\">\n",
              "      <div>\n",
              "<style scoped>\n",
              "    .dataframe tbody tr th:only-of-type {\n",
              "        vertical-align: middle;\n",
              "    }\n",
              "\n",
              "    .dataframe tbody tr th {\n",
              "        vertical-align: top;\n",
              "    }\n",
              "\n",
              "    .dataframe thead th {\n",
              "        text-align: right;\n",
              "    }\n",
              "</style>\n",
              "<table border=\"1\" class=\"dataframe\">\n",
              "  <thead>\n",
              "    <tr style=\"text-align: right;\">\n",
              "      <th></th>\n",
              "      <th>movieId</th>\n",
              "      <th>title</th>\n",
              "    </tr>\n",
              "  </thead>\n",
              "  <tbody>\n",
              "    <tr>\n",
              "      <th>0</th>\n",
              "      <td>1</td>\n",
              "      <td>Toy Story (1995)</td>\n",
              "    </tr>\n",
              "    <tr>\n",
              "      <th>1</th>\n",
              "      <td>2</td>\n",
              "      <td>Jumanji (1995)</td>\n",
              "    </tr>\n",
              "    <tr>\n",
              "      <th>2</th>\n",
              "      <td>3</td>\n",
              "      <td>Grumpier Old Men (1995)</td>\n",
              "    </tr>\n",
              "  </tbody>\n",
              "</table>\n",
              "</div>\n",
              "      <button class=\"colab-df-convert\" onclick=\"convertToInteractive('df-57ee83fd-b460-4a37-bdb7-6a3df014bb68')\"\n",
              "              title=\"Convert this dataframe to an interactive table.\"\n",
              "              style=\"display:none;\">\n",
              "        \n",
              "  <svg xmlns=\"http://www.w3.org/2000/svg\" height=\"24px\"viewBox=\"0 0 24 24\"\n",
              "       width=\"24px\">\n",
              "    <path d=\"M0 0h24v24H0V0z\" fill=\"none\"/>\n",
              "    <path d=\"M18.56 5.44l.94 2.06.94-2.06 2.06-.94-2.06-.94-.94-2.06-.94 2.06-2.06.94zm-11 1L8.5 8.5l.94-2.06 2.06-.94-2.06-.94L8.5 2.5l-.94 2.06-2.06.94zm10 10l.94 2.06.94-2.06 2.06-.94-2.06-.94-.94-2.06-.94 2.06-2.06.94z\"/><path d=\"M17.41 7.96l-1.37-1.37c-.4-.4-.92-.59-1.43-.59-.52 0-1.04.2-1.43.59L10.3 9.45l-7.72 7.72c-.78.78-.78 2.05 0 2.83L4 21.41c.39.39.9.59 1.41.59.51 0 1.02-.2 1.41-.59l7.78-7.78 2.81-2.81c.8-.78.8-2.07 0-2.86zM5.41 20L4 18.59l7.72-7.72 1.47 1.35L5.41 20z\"/>\n",
              "  </svg>\n",
              "      </button>\n",
              "      \n",
              "  <style>\n",
              "    .colab-df-container {\n",
              "      display:flex;\n",
              "      flex-wrap:wrap;\n",
              "      gap: 12px;\n",
              "    }\n",
              "\n",
              "    .colab-df-convert {\n",
              "      background-color: #E8F0FE;\n",
              "      border: none;\n",
              "      border-radius: 50%;\n",
              "      cursor: pointer;\n",
              "      display: none;\n",
              "      fill: #1967D2;\n",
              "      height: 32px;\n",
              "      padding: 0 0 0 0;\n",
              "      width: 32px;\n",
              "    }\n",
              "\n",
              "    .colab-df-convert:hover {\n",
              "      background-color: #E2EBFA;\n",
              "      box-shadow: 0px 1px 2px rgba(60, 64, 67, 0.3), 0px 1px 3px 1px rgba(60, 64, 67, 0.15);\n",
              "      fill: #174EA6;\n",
              "    }\n",
              "\n",
              "    [theme=dark] .colab-df-convert {\n",
              "      background-color: #3B4455;\n",
              "      fill: #D2E3FC;\n",
              "    }\n",
              "\n",
              "    [theme=dark] .colab-df-convert:hover {\n",
              "      background-color: #434B5C;\n",
              "      box-shadow: 0px 1px 3px 1px rgba(0, 0, 0, 0.15);\n",
              "      filter: drop-shadow(0px 1px 2px rgba(0, 0, 0, 0.3));\n",
              "      fill: #FFFFFF;\n",
              "    }\n",
              "  </style>\n",
              "\n",
              "      <script>\n",
              "        const buttonEl =\n",
              "          document.querySelector('#df-57ee83fd-b460-4a37-bdb7-6a3df014bb68 button.colab-df-convert');\n",
              "        buttonEl.style.display =\n",
              "          google.colab.kernel.accessAllowed ? 'block' : 'none';\n",
              "\n",
              "        async function convertToInteractive(key) {\n",
              "          const element = document.querySelector('#df-57ee83fd-b460-4a37-bdb7-6a3df014bb68');\n",
              "          const dataTable =\n",
              "            await google.colab.kernel.invokeFunction('convertToInteractive',\n",
              "                                                     [key], {});\n",
              "          if (!dataTable) return;\n",
              "\n",
              "          const docLinkHtml = 'Like what you see? Visit the ' +\n",
              "            '<a target=\"_blank\" href=https://colab.research.google.com/notebooks/data_table.ipynb>data table notebook</a>'\n",
              "            + ' to learn more about interactive tables.';\n",
              "          element.innerHTML = '';\n",
              "          dataTable['output_type'] = 'display_data';\n",
              "          await google.colab.output.renderOutput(dataTable, element);\n",
              "          const docLink = document.createElement('div');\n",
              "          docLink.innerHTML = docLinkHtml;\n",
              "          element.appendChild(docLink);\n",
              "        }\n",
              "      </script>\n",
              "    </div>\n",
              "  </div>\n",
              "  "
            ]
          },
          "metadata": {},
          "execution_count": 8
        }
      ]
    },
    {
      "cell_type": "code",
      "source": [
        "merged_df = pd.merge(ratings_df1, movies_df1, how='inner', on='movieId')\n",
        "merged_df.head(3)"
      ],
      "metadata": {
        "colab": {
          "base_uri": "https://localhost:8080/",
          "height": 143
        },
        "id": "9Rs4XOqvINng",
        "outputId": "fdd89523-bb5a-46f6-f111-57a4bf2e510e"
      },
      "execution_count": 9,
      "outputs": [
        {
          "output_type": "execute_result",
          "data": {
            "text/plain": [
              "   userId  movieId  rating   timestamp                title\n",
              "0       1      296     5.0  1147880044  Pulp Fiction (1994)\n",
              "1       3      296     5.0  1439474476  Pulp Fiction (1994)\n",
              "2       4      296     4.0  1573938898  Pulp Fiction (1994)"
            ],
            "text/html": [
              "\n",
              "  <div id=\"df-b5851f78-217c-4323-99f8-54250da96423\">\n",
              "    <div class=\"colab-df-container\">\n",
              "      <div>\n",
              "<style scoped>\n",
              "    .dataframe tbody tr th:only-of-type {\n",
              "        vertical-align: middle;\n",
              "    }\n",
              "\n",
              "    .dataframe tbody tr th {\n",
              "        vertical-align: top;\n",
              "    }\n",
              "\n",
              "    .dataframe thead th {\n",
              "        text-align: right;\n",
              "    }\n",
              "</style>\n",
              "<table border=\"1\" class=\"dataframe\">\n",
              "  <thead>\n",
              "    <tr style=\"text-align: right;\">\n",
              "      <th></th>\n",
              "      <th>userId</th>\n",
              "      <th>movieId</th>\n",
              "      <th>rating</th>\n",
              "      <th>timestamp</th>\n",
              "      <th>title</th>\n",
              "    </tr>\n",
              "  </thead>\n",
              "  <tbody>\n",
              "    <tr>\n",
              "      <th>0</th>\n",
              "      <td>1</td>\n",
              "      <td>296</td>\n",
              "      <td>5.0</td>\n",
              "      <td>1147880044</td>\n",
              "      <td>Pulp Fiction (1994)</td>\n",
              "    </tr>\n",
              "    <tr>\n",
              "      <th>1</th>\n",
              "      <td>3</td>\n",
              "      <td>296</td>\n",
              "      <td>5.0</td>\n",
              "      <td>1439474476</td>\n",
              "      <td>Pulp Fiction (1994)</td>\n",
              "    </tr>\n",
              "    <tr>\n",
              "      <th>2</th>\n",
              "      <td>4</td>\n",
              "      <td>296</td>\n",
              "      <td>4.0</td>\n",
              "      <td>1573938898</td>\n",
              "      <td>Pulp Fiction (1994)</td>\n",
              "    </tr>\n",
              "  </tbody>\n",
              "</table>\n",
              "</div>\n",
              "      <button class=\"colab-df-convert\" onclick=\"convertToInteractive('df-b5851f78-217c-4323-99f8-54250da96423')\"\n",
              "              title=\"Convert this dataframe to an interactive table.\"\n",
              "              style=\"display:none;\">\n",
              "        \n",
              "  <svg xmlns=\"http://www.w3.org/2000/svg\" height=\"24px\"viewBox=\"0 0 24 24\"\n",
              "       width=\"24px\">\n",
              "    <path d=\"M0 0h24v24H0V0z\" fill=\"none\"/>\n",
              "    <path d=\"M18.56 5.44l.94 2.06.94-2.06 2.06-.94-2.06-.94-.94-2.06-.94 2.06-2.06.94zm-11 1L8.5 8.5l.94-2.06 2.06-.94-2.06-.94L8.5 2.5l-.94 2.06-2.06.94zm10 10l.94 2.06.94-2.06 2.06-.94-2.06-.94-.94-2.06-.94 2.06-2.06.94z\"/><path d=\"M17.41 7.96l-1.37-1.37c-.4-.4-.92-.59-1.43-.59-.52 0-1.04.2-1.43.59L10.3 9.45l-7.72 7.72c-.78.78-.78 2.05 0 2.83L4 21.41c.39.39.9.59 1.41.59.51 0 1.02-.2 1.41-.59l7.78-7.78 2.81-2.81c.8-.78.8-2.07 0-2.86zM5.41 20L4 18.59l7.72-7.72 1.47 1.35L5.41 20z\"/>\n",
              "  </svg>\n",
              "      </button>\n",
              "      \n",
              "  <style>\n",
              "    .colab-df-container {\n",
              "      display:flex;\n",
              "      flex-wrap:wrap;\n",
              "      gap: 12px;\n",
              "    }\n",
              "\n",
              "    .colab-df-convert {\n",
              "      background-color: #E8F0FE;\n",
              "      border: none;\n",
              "      border-radius: 50%;\n",
              "      cursor: pointer;\n",
              "      display: none;\n",
              "      fill: #1967D2;\n",
              "      height: 32px;\n",
              "      padding: 0 0 0 0;\n",
              "      width: 32px;\n",
              "    }\n",
              "\n",
              "    .colab-df-convert:hover {\n",
              "      background-color: #E2EBFA;\n",
              "      box-shadow: 0px 1px 2px rgba(60, 64, 67, 0.3), 0px 1px 3px 1px rgba(60, 64, 67, 0.15);\n",
              "      fill: #174EA6;\n",
              "    }\n",
              "\n",
              "    [theme=dark] .colab-df-convert {\n",
              "      background-color: #3B4455;\n",
              "      fill: #D2E3FC;\n",
              "    }\n",
              "\n",
              "    [theme=dark] .colab-df-convert:hover {\n",
              "      background-color: #434B5C;\n",
              "      box-shadow: 0px 1px 3px 1px rgba(0, 0, 0, 0.15);\n",
              "      filter: drop-shadow(0px 1px 2px rgba(0, 0, 0, 0.3));\n",
              "      fill: #FFFFFF;\n",
              "    }\n",
              "  </style>\n",
              "\n",
              "      <script>\n",
              "        const buttonEl =\n",
              "          document.querySelector('#df-b5851f78-217c-4323-99f8-54250da96423 button.colab-df-convert');\n",
              "        buttonEl.style.display =\n",
              "          google.colab.kernel.accessAllowed ? 'block' : 'none';\n",
              "\n",
              "        async function convertToInteractive(key) {\n",
              "          const element = document.querySelector('#df-b5851f78-217c-4323-99f8-54250da96423');\n",
              "          const dataTable =\n",
              "            await google.colab.kernel.invokeFunction('convertToInteractive',\n",
              "                                                     [key], {});\n",
              "          if (!dataTable) return;\n",
              "\n",
              "          const docLinkHtml = 'Like what you see? Visit the ' +\n",
              "            '<a target=\"_blank\" href=https://colab.research.google.com/notebooks/data_table.ipynb>data table notebook</a>'\n",
              "            + ' to learn more about interactive tables.';\n",
              "          element.innerHTML = '';\n",
              "          dataTable['output_type'] = 'display_data';\n",
              "          await google.colab.output.renderOutput(dataTable, element);\n",
              "          const docLink = document.createElement('div');\n",
              "          docLink.innerHTML = docLinkHtml;\n",
              "          element.appendChild(docLink);\n",
              "        }\n",
              "      </script>\n",
              "    </div>\n",
              "  </div>\n",
              "  "
            ]
          },
          "metadata": {},
          "execution_count": 9
        }
      ]
    },
    {
      "cell_type": "code",
      "source": [
        "len(merged_df)"
      ],
      "metadata": {
        "colab": {
          "base_uri": "https://localhost:8080/"
        },
        "id": "luzAJWsUknNS",
        "outputId": "a95f5de1-4f08-493d-9c06-693c4943f7be"
      },
      "execution_count": null,
      "outputs": [
        {
          "output_type": "execute_result",
          "data": {
            "text/plain": [
              "287678"
            ]
          },
          "metadata": {},
          "execution_count": 13
        }
      ]
    },
    {
      "cell_type": "code",
      "source": [
        "user_encoder, movie_encoder = LabelEncoder(), LabelEncoder()\n",
        "merged_df['uid_enc'] = user_encoder.fit_transform(merged_df['userId'].values)\n",
        "merged_df['mid_enc'] = movie_encoder.fit_transform(merged_df['movieId'].values)"
      ],
      "metadata": {
        "id": "2E-lukcdo6xc"
      },
      "execution_count": 10,
      "outputs": []
    },
    {
      "cell_type": "code",
      "source": [
        "X = merged_df[['uid_enc', 'mid_enc']].values\n",
        "y = merged_df['rating'].values\n",
        "X_train, X_val, y_train, y_val = train_test_split(X, y, test_size=0.2, random_state=42)\n",
        "print(X_train.shape, X_val.shape, y_train.shape, y_val.shape)\n"
      ],
      "metadata": {
        "colab": {
          "base_uri": "https://localhost:8080/"
        },
        "id": "DOfUaHOQLJCP",
        "outputId": "8e5ebc5f-80a4-432b-bdfc-0945c71490d6"
      },
      "execution_count": 11,
      "outputs": [
        {
          "output_type": "stream",
          "name": "stdout",
          "text": [
            "(230142, 2) (57536, 2) (230142,) (57536,)\n"
          ]
        }
      ]
    },
    {
      "cell_type": "code",
      "source": [
        "merged_df.head()"
      ],
      "metadata": {
        "colab": {
          "base_uri": "https://localhost:8080/",
          "height": 206
        },
        "id": "lb6mSCjr98F_",
        "outputId": "1e2ac231-9f5c-44ba-8054-f101040dcd29"
      },
      "execution_count": 14,
      "outputs": [
        {
          "output_type": "execute_result",
          "data": {
            "text/plain": [
              "   userId  movieId  rating   timestamp                title  uid_enc  mid_enc\n",
              "0       1      296     5.0  1147880044  Pulp Fiction (1994)        0      278\n",
              "1       3      296     5.0  1439474476  Pulp Fiction (1994)        2      278\n",
              "2       4      296     4.0  1573938898  Pulp Fiction (1994)        3      278\n",
              "3       5      296     4.0   830786155  Pulp Fiction (1994)        4      278\n",
              "4       7      296     4.0   835444730  Pulp Fiction (1994)        6      278"
            ],
            "text/html": [
              "\n",
              "  <div id=\"df-d9c6c9e7-b33a-4919-ae21-2ec294662fcb\">\n",
              "    <div class=\"colab-df-container\">\n",
              "      <div>\n",
              "<style scoped>\n",
              "    .dataframe tbody tr th:only-of-type {\n",
              "        vertical-align: middle;\n",
              "    }\n",
              "\n",
              "    .dataframe tbody tr th {\n",
              "        vertical-align: top;\n",
              "    }\n",
              "\n",
              "    .dataframe thead th {\n",
              "        text-align: right;\n",
              "    }\n",
              "</style>\n",
              "<table border=\"1\" class=\"dataframe\">\n",
              "  <thead>\n",
              "    <tr style=\"text-align: right;\">\n",
              "      <th></th>\n",
              "      <th>userId</th>\n",
              "      <th>movieId</th>\n",
              "      <th>rating</th>\n",
              "      <th>timestamp</th>\n",
              "      <th>title</th>\n",
              "      <th>uid_enc</th>\n",
              "      <th>mid_enc</th>\n",
              "    </tr>\n",
              "  </thead>\n",
              "  <tbody>\n",
              "    <tr>\n",
              "      <th>0</th>\n",
              "      <td>1</td>\n",
              "      <td>296</td>\n",
              "      <td>5.0</td>\n",
              "      <td>1147880044</td>\n",
              "      <td>Pulp Fiction (1994)</td>\n",
              "      <td>0</td>\n",
              "      <td>278</td>\n",
              "    </tr>\n",
              "    <tr>\n",
              "      <th>1</th>\n",
              "      <td>3</td>\n",
              "      <td>296</td>\n",
              "      <td>5.0</td>\n",
              "      <td>1439474476</td>\n",
              "      <td>Pulp Fiction (1994)</td>\n",
              "      <td>2</td>\n",
              "      <td>278</td>\n",
              "    </tr>\n",
              "    <tr>\n",
              "      <th>2</th>\n",
              "      <td>4</td>\n",
              "      <td>296</td>\n",
              "      <td>4.0</td>\n",
              "      <td>1573938898</td>\n",
              "      <td>Pulp Fiction (1994)</td>\n",
              "      <td>3</td>\n",
              "      <td>278</td>\n",
              "    </tr>\n",
              "    <tr>\n",
              "      <th>3</th>\n",
              "      <td>5</td>\n",
              "      <td>296</td>\n",
              "      <td>4.0</td>\n",
              "      <td>830786155</td>\n",
              "      <td>Pulp Fiction (1994)</td>\n",
              "      <td>4</td>\n",
              "      <td>278</td>\n",
              "    </tr>\n",
              "    <tr>\n",
              "      <th>4</th>\n",
              "      <td>7</td>\n",
              "      <td>296</td>\n",
              "      <td>4.0</td>\n",
              "      <td>835444730</td>\n",
              "      <td>Pulp Fiction (1994)</td>\n",
              "      <td>6</td>\n",
              "      <td>278</td>\n",
              "    </tr>\n",
              "  </tbody>\n",
              "</table>\n",
              "</div>\n",
              "      <button class=\"colab-df-convert\" onclick=\"convertToInteractive('df-d9c6c9e7-b33a-4919-ae21-2ec294662fcb')\"\n",
              "              title=\"Convert this dataframe to an interactive table.\"\n",
              "              style=\"display:none;\">\n",
              "        \n",
              "  <svg xmlns=\"http://www.w3.org/2000/svg\" height=\"24px\"viewBox=\"0 0 24 24\"\n",
              "       width=\"24px\">\n",
              "    <path d=\"M0 0h24v24H0V0z\" fill=\"none\"/>\n",
              "    <path d=\"M18.56 5.44l.94 2.06.94-2.06 2.06-.94-2.06-.94-.94-2.06-.94 2.06-2.06.94zm-11 1L8.5 8.5l.94-2.06 2.06-.94-2.06-.94L8.5 2.5l-.94 2.06-2.06.94zm10 10l.94 2.06.94-2.06 2.06-.94-2.06-.94-.94-2.06-.94 2.06-2.06.94z\"/><path d=\"M17.41 7.96l-1.37-1.37c-.4-.4-.92-.59-1.43-.59-.52 0-1.04.2-1.43.59L10.3 9.45l-7.72 7.72c-.78.78-.78 2.05 0 2.83L4 21.41c.39.39.9.59 1.41.59.51 0 1.02-.2 1.41-.59l7.78-7.78 2.81-2.81c.8-.78.8-2.07 0-2.86zM5.41 20L4 18.59l7.72-7.72 1.47 1.35L5.41 20z\"/>\n",
              "  </svg>\n",
              "      </button>\n",
              "      \n",
              "  <style>\n",
              "    .colab-df-container {\n",
              "      display:flex;\n",
              "      flex-wrap:wrap;\n",
              "      gap: 12px;\n",
              "    }\n",
              "\n",
              "    .colab-df-convert {\n",
              "      background-color: #E8F0FE;\n",
              "      border: none;\n",
              "      border-radius: 50%;\n",
              "      cursor: pointer;\n",
              "      display: none;\n",
              "      fill: #1967D2;\n",
              "      height: 32px;\n",
              "      padding: 0 0 0 0;\n",
              "      width: 32px;\n",
              "    }\n",
              "\n",
              "    .colab-df-convert:hover {\n",
              "      background-color: #E2EBFA;\n",
              "      box-shadow: 0px 1px 2px rgba(60, 64, 67, 0.3), 0px 1px 3px 1px rgba(60, 64, 67, 0.15);\n",
              "      fill: #174EA6;\n",
              "    }\n",
              "\n",
              "    [theme=dark] .colab-df-convert {\n",
              "      background-color: #3B4455;\n",
              "      fill: #D2E3FC;\n",
              "    }\n",
              "\n",
              "    [theme=dark] .colab-df-convert:hover {\n",
              "      background-color: #434B5C;\n",
              "      box-shadow: 0px 1px 3px 1px rgba(0, 0, 0, 0.15);\n",
              "      filter: drop-shadow(0px 1px 2px rgba(0, 0, 0, 0.3));\n",
              "      fill: #FFFFFF;\n",
              "    }\n",
              "  </style>\n",
              "\n",
              "      <script>\n",
              "        const buttonEl =\n",
              "          document.querySelector('#df-d9c6c9e7-b33a-4919-ae21-2ec294662fcb button.colab-df-convert');\n",
              "        buttonEl.style.display =\n",
              "          google.colab.kernel.accessAllowed ? 'block' : 'none';\n",
              "\n",
              "        async function convertToInteractive(key) {\n",
              "          const element = document.querySelector('#df-d9c6c9e7-b33a-4919-ae21-2ec294662fcb');\n",
              "          const dataTable =\n",
              "            await google.colab.kernel.invokeFunction('convertToInteractive',\n",
              "                                                     [key], {});\n",
              "          if (!dataTable) return;\n",
              "\n",
              "          const docLinkHtml = 'Like what you see? Visit the ' +\n",
              "            '<a target=\"_blank\" href=https://colab.research.google.com/notebooks/data_table.ipynb>data table notebook</a>'\n",
              "            + ' to learn more about interactive tables.';\n",
              "          element.innerHTML = '';\n",
              "          dataTable['output_type'] = 'display_data';\n",
              "          await google.colab.output.renderOutput(dataTable, element);\n",
              "          const docLink = document.createElement('div');\n",
              "          docLink.innerHTML = docLinkHtml;\n",
              "          element.appendChild(docLink);\n",
              "        }\n",
              "      </script>\n",
              "    </div>\n",
              "  </div>\n",
              "  "
            ]
          },
          "metadata": {},
          "execution_count": 14
        }
      ]
    },
    {
      "cell_type": "code",
      "source": [
        "X_train_array = [X_train[:, 0], X_train[:, 1]]\n",
        "X_val_array = [X_val[:, 0], X_val[:, 1]]\n",
        "# scale to 1-10\n",
        "# y_train_array = 2 * y_train - 1\n",
        "# y_val_array = 2 * y_val - 1"
      ],
      "metadata": {
        "id": "ujD5mW_VV9-d"
      },
      "execution_count": 12,
      "outputs": []
    },
    {
      "cell_type": "code",
      "source": [
        "num_users = merged_df['uid_enc'].nunique()\n",
        "num_movies = merged_df['mid_enc'].nunique()\n",
        "embedding_size = 5"
      ],
      "metadata": {
        "id": "nZU67dJ4WVLc"
      },
      "execution_count": 13,
      "outputs": []
    },
    {
      "cell_type": "code",
      "source": [
        "dropout_rate = 0.2\n",
        "u_emb_input = Input(shape=(1,))\n",
        "m_emb_input = Input(shape=(1,))\n",
        "\n",
        "u_emb = Embedding(\n",
        "    num_users, \n",
        "    embedding_size)(u_emb_input)\n",
        "\n",
        "u_emb = Flatten()(u_emb)\n",
        "\n",
        "m_emb = Embedding(\n",
        "    num_movies, \n",
        "    embedding_size)(m_emb_input)\n",
        "\n",
        "m_emb = Flatten()(m_emb)\n",
        "\n",
        "concat = Concatenate()([u_emb,m_emb])\n",
        "\n",
        "concat = Dropout(dropout_rate)(concat)\n",
        "\n",
        "layer1 = Dense(64, activation='relu')(concat)\n",
        "layer1 = BatchNormalization()(layer1)\n",
        "layer1 = Dropout(dropout_rate)(layer1)\n",
        "\n",
        "layer2 = Dense(32, activation='relu')(layer1)\n",
        "layer2 = BatchNormalization()(layer2)\n",
        "layer2 = Dropout(dropout_rate)(layer2)\n",
        "\n",
        "out = Dense(1)(layer2)\n",
        "\n",
        "model = Model(inputs=[u_emb_input,m_emb_input], outputs=out)\n"
      ],
      "metadata": {
        "id": "rxyOrKEVWSkZ"
      },
      "execution_count": 25,
      "outputs": []
    },
    {
      "cell_type": "code",
      "source": [
        "pip install tensorflow_addons"
      ],
      "metadata": {
        "colab": {
          "base_uri": "https://localhost:8080/"
        },
        "id": "WjPIdcJIiB-Q",
        "outputId": "cd6ebefe-9524-4d9d-c746-54366ebc31a9"
      },
      "execution_count": 15,
      "outputs": [
        {
          "output_type": "stream",
          "name": "stdout",
          "text": [
            "Looking in indexes: https://pypi.org/simple, https://us-python.pkg.dev/colab-wheels/public/simple/\n",
            "Requirement already satisfied: tensorflow_addons in /usr/local/lib/python3.8/dist-packages (0.18.0)\n",
            "Requirement already satisfied: packaging in /usr/local/lib/python3.8/dist-packages (from tensorflow_addons) (21.3)\n",
            "Requirement already satisfied: typeguard>=2.7 in /usr/local/lib/python3.8/dist-packages (from tensorflow_addons) (2.7.1)\n",
            "Requirement already satisfied: pyparsing!=3.0.5,>=2.0.2 in /usr/local/lib/python3.8/dist-packages (from packaging->tensorflow_addons) (3.0.9)\n"
          ]
        }
      ]
    },
    {
      "cell_type": "code",
      "source": [
        "model.summary()"
      ],
      "metadata": {
        "colab": {
          "base_uri": "https://localhost:8080/"
        },
        "id": "GouFCmbe2ioZ",
        "outputId": "8a2dcaa7-bb57-40f5-c513-af1e0467423f"
      },
      "execution_count": 26,
      "outputs": [
        {
          "output_type": "stream",
          "name": "stdout",
          "text": [
            "Model: \"model_3\"\n",
            "__________________________________________________________________________________________________\n",
            " Layer (type)                   Output Shape         Param #     Connected to                     \n",
            "==================================================================================================\n",
            " input_7 (InputLayer)           [(None, 1)]          0           []                               \n",
            "                                                                                                  \n",
            " input_8 (InputLayer)           [(None, 1)]          0           []                               \n",
            "                                                                                                  \n",
            " embedding_6 (Embedding)        (None, 1, 5)         9995        ['input_7[0][0]']                \n",
            "                                                                                                  \n",
            " embedding_7 (Embedding)        (None, 1, 5)         72260       ['input_8[0][0]']                \n",
            "                                                                                                  \n",
            " flatten_6 (Flatten)            (None, 5)            0           ['embedding_6[0][0]']            \n",
            "                                                                                                  \n",
            " flatten_7 (Flatten)            (None, 5)            0           ['embedding_7[0][0]']            \n",
            "                                                                                                  \n",
            " concatenate_3 (Concatenate)    (None, 10)           0           ['flatten_6[0][0]',              \n",
            "                                                                  'flatten_7[0][0]']              \n",
            "                                                                                                  \n",
            " dropout_9 (Dropout)            (None, 10)           0           ['concatenate_3[0][0]']          \n",
            "                                                                                                  \n",
            " dense_9 (Dense)                (None, 64)           704         ['dropout_9[0][0]']              \n",
            "                                                                                                  \n",
            " batch_normalization_6 (BatchNo  (None, 64)          256         ['dense_9[0][0]']                \n",
            " rmalization)                                                                                     \n",
            "                                                                                                  \n",
            " dropout_10 (Dropout)           (None, 64)           0           ['batch_normalization_6[0][0]']  \n",
            "                                                                                                  \n",
            " dense_10 (Dense)               (None, 32)           2080        ['dropout_10[0][0]']             \n",
            "                                                                                                  \n",
            " batch_normalization_7 (BatchNo  (None, 32)          128         ['dense_10[0][0]']               \n",
            " rmalization)                                                                                     \n",
            "                                                                                                  \n",
            " dropout_11 (Dropout)           (None, 32)           0           ['batch_normalization_7[0][0]']  \n",
            "                                                                                                  \n",
            " dense_11 (Dense)               (None, 1)            33          ['dropout_11[0][0]']             \n",
            "                                                                                                  \n",
            "==================================================================================================\n",
            "Total params: 85,456\n",
            "Trainable params: 85,264\n",
            "Non-trainable params: 192\n",
            "__________________________________________________________________________________________________\n"
          ]
        }
      ]
    },
    {
      "cell_type": "markdown",
      "source": [
        "We create a custom metric which is the equivalent of R2 score as accuracy is not a suitable metric for regression problems."
      ],
      "metadata": {
        "id": "Q25MbjKZZtt2"
      }
    },
    {
      "cell_type": "code",
      "source": [
        "from keras import backend as K\n",
        "\n",
        "def coeff_determination(y_true, y_pred):\n",
        "    SS_res =  K.sum(K.square( y_true-y_pred )) \n",
        "    SS_tot = K.sum(K.square( y_true - K.mean(y_true) ) ) \n",
        "    return ( 1 - SS_res/(SS_tot + K.epsilon()) )\n",
        "\n",
        "# model.compile(optimizer='adam', loss='mean_squared_error', metrics=[coeff_determination])"
      ],
      "metadata": {
        "id": "rfQBUpJpiZ1F"
      },
      "execution_count": 21,
      "outputs": []
    },
    {
      "cell_type": "code",
      "source": [
        "from keras.optimizers import SGD\n",
        "model.compile(\n",
        "    optimizer=\"Adam\",\n",
        "    loss='mean_squared_error',\n",
        "    metrics=[coeff_determination])\n",
        "\n",
        "history = model.fit(\n",
        "    x = X_train_array,\n",
        "    y = y_train, \n",
        "    batch_size=128, \n",
        "    epochs=30, \n",
        "    verbose=1, \n",
        "    validation_data=(X_val_array, y_val), \n",
        "    shuffle=True, \n",
        "    )"
      ],
      "metadata": {
        "colab": {
          "base_uri": "https://localhost:8080/"
        },
        "id": "YAiDL8H-YNs-",
        "outputId": "040b5fd7-20b5-41af-edee-b85e472d34b3"
      },
      "execution_count": 27,
      "outputs": [
        {
          "output_type": "stream",
          "name": "stdout",
          "text": [
            "Epoch 1/30\n",
            "1798/1798 [==============================] - 12s 6ms/step - loss: 2.4494 - coeff_determination: -1.2154 - val_loss: 0.9054 - val_coeff_determination: 0.1896\n",
            "Epoch 2/30\n",
            "1798/1798 [==============================] - 11s 6ms/step - loss: 1.0222 - coeff_determination: 0.0871 - val_loss: 0.8037 - val_coeff_determination: 0.2799\n",
            "Epoch 3/30\n",
            "1798/1798 [==============================] - 10s 6ms/step - loss: 0.8980 - coeff_determination: 0.1967 - val_loss: 0.7693 - val_coeff_determination: 0.3102\n",
            "Epoch 4/30\n",
            "1798/1798 [==============================] - 10s 6ms/step - loss: 0.8422 - coeff_determination: 0.2474 - val_loss: 0.7591 - val_coeff_determination: 0.3191\n",
            "Epoch 5/30\n",
            "1798/1798 [==============================] - 10s 6ms/step - loss: 0.8040 - coeff_determination: 0.2809 - val_loss: 0.7505 - val_coeff_determination: 0.3274\n",
            "Epoch 6/30\n",
            "1798/1798 [==============================] - 10s 6ms/step - loss: 0.7783 - coeff_determination: 0.3039 - val_loss: 0.7451 - val_coeff_determination: 0.3313\n",
            "Epoch 7/30\n",
            "1798/1798 [==============================] - 11s 6ms/step - loss: 0.7589 - coeff_determination: 0.3214 - val_loss: 0.7401 - val_coeff_determination: 0.3360\n",
            "Epoch 8/30\n",
            "1798/1798 [==============================] - 11s 6ms/step - loss: 0.7429 - coeff_determination: 0.3352 - val_loss: 0.7350 - val_coeff_determination: 0.3409\n",
            "Epoch 9/30\n",
            "1798/1798 [==============================] - 11s 6ms/step - loss: 0.7313 - coeff_determination: 0.3462 - val_loss: 0.7370 - val_coeff_determination: 0.3394\n",
            "Epoch 10/30\n",
            "1798/1798 [==============================] - 11s 6ms/step - loss: 0.7244 - coeff_determination: 0.3520 - val_loss: 0.7364 - val_coeff_determination: 0.3398\n",
            "Epoch 11/30\n",
            "1798/1798 [==============================] - 10s 6ms/step - loss: 0.7168 - coeff_determination: 0.3588 - val_loss: 0.7369 - val_coeff_determination: 0.3395\n",
            "Epoch 12/30\n",
            "1798/1798 [==============================] - 10s 6ms/step - loss: 0.7085 - coeff_determination: 0.3662 - val_loss: 0.7331 - val_coeff_determination: 0.3424\n",
            "Epoch 13/30\n",
            "1798/1798 [==============================] - 10s 6ms/step - loss: 0.7010 - coeff_determination: 0.3731 - val_loss: 0.7313 - val_coeff_determination: 0.3441\n",
            "Epoch 14/30\n",
            "1798/1798 [==============================] - 10s 6ms/step - loss: 0.6984 - coeff_determination: 0.3754 - val_loss: 0.7364 - val_coeff_determination: 0.3398\n",
            "Epoch 15/30\n",
            "1798/1798 [==============================] - 10s 6ms/step - loss: 0.6946 - coeff_determination: 0.3787 - val_loss: 0.7315 - val_coeff_determination: 0.3439\n",
            "Epoch 16/30\n",
            "1798/1798 [==============================] - 10s 6ms/step - loss: 0.6904 - coeff_determination: 0.3820 - val_loss: 0.7345 - val_coeff_determination: 0.3414\n",
            "Epoch 17/30\n",
            "1798/1798 [==============================] - 10s 6ms/step - loss: 0.6880 - coeff_determination: 0.3847 - val_loss: 0.7363 - val_coeff_determination: 0.3402\n",
            "Epoch 18/30\n",
            "1798/1798 [==============================] - 10s 6ms/step - loss: 0.6845 - coeff_determination: 0.3873 - val_loss: 0.7328 - val_coeff_determination: 0.3428\n",
            "Epoch 19/30\n",
            "1798/1798 [==============================] - 10s 6ms/step - loss: 0.6814 - coeff_determination: 0.3905 - val_loss: 0.7336 - val_coeff_determination: 0.3421\n",
            "Epoch 20/30\n",
            "1798/1798 [==============================] - 10s 6ms/step - loss: 0.6803 - coeff_determination: 0.3914 - val_loss: 0.7347 - val_coeff_determination: 0.3415\n",
            "Epoch 21/30\n",
            "1798/1798 [==============================] - 10s 6ms/step - loss: 0.6772 - coeff_determination: 0.3944 - val_loss: 0.7360 - val_coeff_determination: 0.3401\n",
            "Epoch 22/30\n",
            "1798/1798 [==============================] - 10s 6ms/step - loss: 0.6739 - coeff_determination: 0.3975 - val_loss: 0.7330 - val_coeff_determination: 0.3427\n",
            "Epoch 23/30\n",
            "1798/1798 [==============================] - 10s 6ms/step - loss: 0.6706 - coeff_determination: 0.4007 - val_loss: 0.7323 - val_coeff_determination: 0.3432\n",
            "Epoch 24/30\n",
            "1798/1798 [==============================] - 11s 6ms/step - loss: 0.6700 - coeff_determination: 0.4005 - val_loss: 0.7367 - val_coeff_determination: 0.3397\n",
            "Epoch 25/30\n",
            "1798/1798 [==============================] - 10s 6ms/step - loss: 0.6680 - coeff_determination: 0.4028 - val_loss: 0.7329 - val_coeff_determination: 0.3429\n",
            "Epoch 26/30\n",
            "1798/1798 [==============================] - 10s 6ms/step - loss: 0.6670 - coeff_determination: 0.4036 - val_loss: 0.7371 - val_coeff_determination: 0.3396\n",
            "Epoch 27/30\n",
            "1798/1798 [==============================] - 10s 6ms/step - loss: 0.6660 - coeff_determination: 0.4043 - val_loss: 0.7350 - val_coeff_determination: 0.3413\n",
            "Epoch 28/30\n",
            "1798/1798 [==============================] - 10s 5ms/step - loss: 0.6662 - coeff_determination: 0.4036 - val_loss: 0.7404 - val_coeff_determination: 0.3368\n",
            "Epoch 29/30\n",
            "1798/1798 [==============================] - 10s 6ms/step - loss: 0.6627 - coeff_determination: 0.4072 - val_loss: 0.7407 - val_coeff_determination: 0.3365\n",
            "Epoch 30/30\n",
            "1798/1798 [==============================] - 10s 6ms/step - loss: 0.6625 - coeff_determination: 0.4071 - val_loss: 0.7407 - val_coeff_determination: 0.3364\n"
          ]
        }
      ]
    },
    {
      "cell_type": "code",
      "source": [
        "hist = pd.DataFrame(history.history)\n",
        "fig, ax = plt.subplots()\n",
        "ax.plot(hist.index, hist['loss'])\n",
        "ax.plot(hist.index, hist['val_loss'])\n",
        "ax.set_ylabel('loss')\n",
        "ax.legend([\"train\", \"val\"], loc=\"upper left\")\n",
        "# ax2 = ax.twinx()\n",
        "# ax2.plot(hist.index, hist['accuracy'], 'r--')\n",
        "# ax2.plot(hist.index, hist['val_accuracy'], 'b--')\n",
        "# ax2.set_ylabel('accuracy')\n",
        "# ax2.legend([\"train\", \"val\"], loc=\"upper right\")\n",
        "# ax.set_xlabel('epochs')"
      ],
      "metadata": {
        "colab": {
          "base_uri": "https://localhost:8080/",
          "height": 283
        },
        "id": "SiVpHX_Im4NY",
        "outputId": "2bcdee03-8f24-4a7a-a0c2-33094b51e773"
      },
      "execution_count": 78,
      "outputs": [
        {
          "output_type": "execute_result",
          "data": {
            "text/plain": [
              "<matplotlib.legend.Legend at 0x7f3c0c2c4820>"
            ]
          },
          "metadata": {},
          "execution_count": 78
        },
        {
          "output_type": "display_data",
          "data": {
            "text/plain": [
              "<Figure size 432x288 with 1 Axes>"
            ],
            "image/png": "[encoded data removed]"
          },
          "metadata": {
            "needs_background": "light"
          }
        }
      ]
    },
    {
      "cell_type": "code",
      "source": [
        "watched = list(merged_df[merged_df.userId == uid]['mid_enc'])\n",
        "unwatched = [i for i in range(min(merged_df['mid_enc']), max(merged_df['mid_enc']) + 1) if i not in watched]"
      ],
      "metadata": {
        "id": "zDy_BsdsnNaw"
      },
      "execution_count": 82,
      "outputs": []
    },
    {
      "cell_type": "code",
      "source": [
        "encoded_uid = user_encoder.transform([uid])\n",
        "user_movie_array = [np.asarray(\n",
        "    list(encoded_uid) * len(unwatched)), \n",
        "    np.asarray(unwatched)\n",
        "    ]"
      ],
      "metadata": {
        "id": "ryG4dz-usZjW"
      },
      "execution_count": 83,
      "outputs": []
    },
    {
      "cell_type": "code",
      "source": [
        "# probability of each possible rating from 0.5 to 5\n",
        "pred_ratings = model.predict(user_movie_array)\n",
        "\n",
        "# use index to represent rating value\n",
        "pred_ratings = pred_ratings.argmax(1)\n",
        "\n",
        "# indices that sort the array by ascending order\n",
        "sorted_movie_indices = pred_ratings.argsort()\n",
        "\n",
        "# reverse indices to get top rated movies\n",
        "recommended_movie_indices = sorted_movie_indices[::-1]"
      ],
      "metadata": {
        "colab": {
          "base_uri": "https://localhost:8080/"
        },
        "id": "lctspMPlsk9O",
        "outputId": "90c2492e-c89b-4bf5-8494-9e93819b8ef0"
      },
      "execution_count": 84,
      "outputs": [
        {
          "output_type": "stream",
          "name": "stdout",
          "text": [
            "450/450 [==============================] - 1s 2ms/step\n"
          ]
        }
      ]
    },
    {
      "cell_type": "code",
      "source": [
        "user_movie_watched = [np.asarray(\n",
        "    list(encoded_uid) * len(watched)), \n",
        "    np.asarray(watched)\n",
        "    ]"
      ],
      "metadata": {
        "id": "9F6KBn3IS-It"
      },
      "execution_count": 94,
      "outputs": []
    },
    {
      "cell_type": "code",
      "source": [
        "pred_ratings_watched = model.predict(user_movie_watched)"
      ],
      "metadata": {
        "colab": {
          "base_uri": "https://localhost:8080/"
        },
        "id": "WvIbgzL6UCcm",
        "outputId": "93fd33bb-70b2-4cea-d2c0-34ec39d7227d"
      },
      "execution_count": 96,
      "outputs": [
        {
          "output_type": "stream",
          "name": "stdout",
          "text": [
            "3/3 [==============================] - 0s 4ms/step\n"
          ]
        }
      ]
    },
    {
      "cell_type": "code",
      "source": [
        "pred_ratings_w = [i.round() for i in pred_ratings_watched[:,0]]"
      ],
      "metadata": {
        "id": "_7fdPhUuX8Wb"
      },
      "execution_count": 98,
      "outputs": []
    },
    {
      "cell_type": "code",
      "source": [
        "actual_ratings_w=list(merged_df[merged_df.userId == uid]['rating'])"
      ],
      "metadata": {
        "id": "dN3J_zcnYyNf"
      },
      "execution_count": 101,
      "outputs": []
    },
    {
      "cell_type": "code",
      "source": [
        "sum=0\n",
        "for i in range(len(watched)):\n",
        "  if(pred_ratings_w[i]==actual_ratings_w[i]):\n",
        "    sum+=1\n",
        "print(\"Accuracy:\",sum*100/len(watched))"
      ],
      "metadata": {
        "colab": {
          "base_uri": "https://localhost:8080/"
        },
        "id": "_EkLQztjaAVh",
        "outputId": "f29243ea-7692-418a-e499-14966a1a21be"
      },
      "execution_count": 105,
      "outputs": [
        {
          "output_type": "stream",
          "name": "stdout",
          "text": [
            "Accuracy: 60.526315789473685\n"
          ]
        }
      ]
    },
    {
      "cell_type": "code",
      "source": [
        "predictions = model.predict(X_val_array[:15])\n",
        "print([predictions])\n",
        "print(y_val[0:15])\n",
        "# [print(predictions[i], y_val[i]) for i in range(0,15)]"
      ],
      "metadata": {
        "colab": {
          "base_uri": "https://localhost:8080/"
        },
        "id": "gkJhSsHIbfYt",
        "outputId": "5ff09909-2e70-40b6-abbf-4beed15651f3"
      },
      "execution_count": 110,
      "outputs": [
        {
          "output_type": "stream",
          "name": "stdout",
          "text": [
            "1798/1798 [==============================] - 3s 2ms/step\n",
            "[array([[3.2926059],\n",
            "       [3.9882421],\n",
            "       [4.3392353],\n",
            "       ...,\n",
            "       [3.56068  ],\n",
            "       [3.6103427],\n",
            "       [3.2938323]], dtype=float32)]\n",
            "[4.  4.  5.  3.  4.  2.5 4.5 4.  4.5 4.  4.  2.  4.  3.  4. ]\n"
          ]
        }
      ]
    },
    {
      "cell_type": "code",
      "source": [
        "recommended_movies_ids = movie_encoder.inverse_transform(recommended_movie_indices)\n",
        "\n",
        "# list top n recommendations\n",
        "for i in range(top_n):\n",
        "  print(movies_df1[movies_df1.movieId==recommended_movies_ids[i]].title.values.item())"
      ],
      "metadata": {
        "colab": {
          "base_uri": "https://localhost:8080/"
        },
        "id": "lBmBeUxNtEpr",
        "outputId": "ffe8f258-8a14-4723-9767-7474b65a47a6"
      },
      "execution_count": 85,
      "outputs": [
        {
          "output_type": "stream",
          "name": "stdout",
          "text": [
            "The Lighthouse (2019)\n",
            "Pride of the Yankees, The (1942)\n",
            "Modern Romance (1981)\n",
            "Modern Problems (1981)\n",
            "Teddy Bear (Mis) (1981)\n",
            "Madman (1981)\n",
            "Looney, Looney, Looney Bugs Bunny Movie, The (1981)\n",
            "Looker (1981)\n",
            "Legend of the Lone Ranger, The (1981)\n",
            "Ladies and Gentlemen, the Fabulous Stains (a.k.a. All Washed Up) (1981)\n",
            "Who Pulled the Plug? (Göta kanal eller Vem drog ur proppen?) (1981)\n",
            "Gregory's Girl (1981)\n",
            "Ghost Story (1981)\n",
            "Inquisitor, The (a.k.a. Under Suspicion) (Garde à vue) (1981)\n",
            "Gallipoli (1981)\n"
          ]
        }
      ]
    }
  ],
  "metadata": {
    "colab": {
      "provenance": [],
      "machine_shape": "hm"
    },
    "kernelspec": {
      "display_name": "Python 3.9.5 ('py39')",
      "language": "python",
      "name": "python3"
    },
    "language_info": {
      "codemirror_mode": {
        "name": "ipython",
        "version": 3
      },
      "file_extension": ".py",
      "mimetype": "text/x-python",
      "name": "python",
      "nbconvert_exporter": "python",
      "pygments_lexer": "ipython3",
      "version": "3.9.5"
    },
    "toc": {
      "base_numbering": 1,
      "nav_menu": {},
      "number_sections": true,
      "sideBar": true,
      "skip_h1_title": false,
      "title_cell": "Table of Contents",
      "title_sidebar": "Contents",
      "toc_cell": false,
      "toc_position": {},
      "toc_section_display": true,
      "toc_window_display": false
    },
    "varInspector": {
      "cols": {
        "lenName": 16,
        "lenType": 16,
        "lenVar": 40
      },
      "kernels_config": {
        "python": {
          "delete_cmd_postfix": "",
          "delete_cmd_prefix": "del ",
          "library": "var_list.py",
          "varRefreshCmd": "print(var_dic_list())"
        },
        "r": {
          "delete_cmd_postfix": ") ",
          "delete_cmd_prefix": "rm(",
          "library": "var_list.r",
          "varRefreshCmd": "cat(var_dic_list()) "
        }
      },
      "types_to_exclude": [
        "module",
        "function",
        "builtin_function_or_method",
        "instance",
        "_Feature"
      ],
      "window_display": false
    },
    "vscode": {
      "interpreter": {
        "hash": "6138145e4784380e1f1a9e0b3a425090f2d7bf523244cfd3d9349770cb357c3f"
      }
    },
    "accelerator": "GPU",
    "gpuClass": "standard"
  },
  "nbformat": 4,
  "nbformat_minor": 0
}