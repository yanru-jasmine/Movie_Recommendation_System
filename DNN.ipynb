{
  "cells": [
    {
      "cell_type": "code",
      "execution_count": 1,
      "metadata": {
        "colab": {
          "base_uri": "https://localhost:8080/"
        },
        "id": "16pCcnfipZpK",
        "outputId": "76a0c0ec-f6a8-435d-89db-9c960a499ccc"
      },
      "outputs": [
        {
          "output_type": "stream",
          "name": "stdout",
          "text": [
            "Drive already mounted at /content/gdrive; to attempt to forcibly remount, call drive.mount(\"/content/gdrive\", force_remount=True).\n"
          ]
        }
      ],
      "source": [
        "import os\n",
        "from google.colab import drive\n",
        "drive.mount('/content/gdrive')\n",
        "os.chdir('/content/gdrive/My Drive/AML Project Group 20')"
      ]
    },
    {
      "cell_type": "code",
      "execution_count": 2,
      "metadata": {
        "id": "SRs2HwkNklRS"
      },
      "outputs": [],
      "source": [
        "import pandas as pd\n",
        "import numpy as np\n",
        "import matplotlib.pyplot as plt\n",
        "import keras\n",
        "from keras.layers import Input, Embedding, Dense, Dropout, BatchNormalization, Concatenate, Flatten\n",
        "from keras.models import Model\n",
        "from keras.losses import SparseCategoricalCrossentropy\n",
        "from keras.regularizers import l2\n",
        "from sklearn.model_selection import train_test_split\n",
        "from sklearn.preprocessing import LabelEncoder\n",
        "import warnings\n",
        "warnings.filterwarnings('ignore')"
      ]
    },
    {
      "cell_type": "code",
      "execution_count": 3,
      "metadata": {
        "id": "mqwrq7tBmU0t"
      },
      "outputs": [],
      "source": [
        "from collections import Counter"
      ]
    },
    {
      "cell_type": "code",
      "execution_count": 4,
      "metadata": {
        "id": "wCTuS2e5k53N"
      },
      "outputs": [],
      "source": [
        "data_dir = 'ml-25m/'\n",
        "movies_df = pd.read_csv(data_dir + 'movies.csv')\n",
        "ratings_df = pd.read_csv(data_dir + 'ratings.csv')"
      ]
    },
    {
      "cell_type": "code",
      "source": [
        "#INPUT\n",
        "uid, top_n = 350, 15"
      ],
      "metadata": {
        "id": "73LpMyEXVD0b"
      },
      "execution_count": 5,
      "outputs": []
    },
    {
      "cell_type": "markdown",
      "metadata": {
        "id": "fPbbwZ0spKdG"
      },
      "source": [
        "**Ratings Data File Structure (ratings.csv)**\n",
        "\n",
        "Each line of this file after the header row represents one rating of one movie by one user, and has the following format:  \n",
        "\n",
        "- The lines within this file are ordered first by userId, then, within user, by movieId.\n",
        "- Ratings are made on a 5-star scale, with half-star increments (0.5 stars - 5.0 stars).\n",
        "- Timestamps represent seconds since midnight Coordinated Universal Time (UTC) of January 1, 1970."
      ]
    },
    {
      "cell_type": "code",
      "execution_count": 6,
      "metadata": {
        "colab": {
          "base_uri": "https://localhost:8080/",
          "height": 143
        },
        "id": "CKF831QHnJyc",
        "outputId": "96c69470-d379-4854-b041-8202eccb77e0",
        "scrolled": true
      },
      "outputs": [
        {
          "output_type": "execute_result",
          "data": {
            "text/plain": [
              "   userId  movieId  rating   timestamp\n",
              "0       1      296     5.0  1147880044\n",
              "1       1      306     3.5  1147868817\n",
              "2       1      307     5.0  1147868828"
            ],
            "text/html": [
              "\n",
              "  <div id=\"df-ab87a439-821d-444f-b268-5422a83e9f89\">\n",
              "    <div class=\"colab-df-container\">\n",
              "      <div>\n",
              "<style scoped>\n",
              "    .dataframe tbody tr th:only-of-type {\n",
              "        vertical-align: middle;\n",
              "    }\n",
              "\n",
              "    .dataframe tbody tr th {\n",
              "        vertical-align: top;\n",
              "    }\n",
              "\n",
              "    .dataframe thead th {\n",
              "        text-align: right;\n",
              "    }\n",
              "</style>\n",
              "<table border=\"1\" class=\"dataframe\">\n",
              "  <thead>\n",
              "    <tr style=\"text-align: right;\">\n",
              "      <th></th>\n",
              "      <th>userId</th>\n",
              "      <th>movieId</th>\n",
              "      <th>rating</th>\n",
              "      <th>timestamp</th>\n",
              "    </tr>\n",
              "  </thead>\n",
              "  <tbody>\n",
              "    <tr>\n",
              "      <th>0</th>\n",
              "      <td>1</td>\n",
              "      <td>296</td>\n",
              "      <td>5.0</td>\n",
              "      <td>1147880044</td>\n",
              "    </tr>\n",
              "    <tr>\n",
              "      <th>1</th>\n",
              "      <td>1</td>\n",
              "      <td>306</td>\n",
              "      <td>3.5</td>\n",
              "      <td>1147868817</td>\n",
              "    </tr>\n",
              "    <tr>\n",
              "      <th>2</th>\n",
              "      <td>1</td>\n",
              "      <td>307</td>\n",
              "      <td>5.0</td>\n",
              "      <td>1147868828</td>\n",
              "    </tr>\n",
              "  </tbody>\n",
              "</table>\n",
              "</div>\n",
              "      <button class=\"colab-df-convert\" onclick=\"convertToInteractive('df-ab87a439-821d-444f-b268-5422a83e9f89')\"\n",
              "              title=\"Convert this dataframe to an interactive table.\"\n",
              "              style=\"display:none;\">\n",
              "        \n",
              "  <svg xmlns=\"http://www.w3.org/2000/svg\" height=\"24px\"viewBox=\"0 0 24 24\"\n",
              "       width=\"24px\">\n",
              "    <path d=\"M0 0h24v24H0V0z\" fill=\"none\"/>\n",
              "    <path d=\"M18.56 5.44l.94 2.06.94-2.06 2.06-.94-2.06-.94-.94-2.06-.94 2.06-2.06.94zm-11 1L8.5 8.5l.94-2.06 2.06-.94-2.06-.94L8.5 2.5l-.94 2.06-2.06.94zm10 10l.94 2.06.94-2.06 2.06-.94-2.06-.94-.94-2.06-.94 2.06-2.06.94z\"/><path d=\"M17.41 7.96l-1.37-1.37c-.4-.4-.92-.59-1.43-.59-.52 0-1.04.2-1.43.59L10.3 9.45l-7.72 7.72c-.78.78-.78 2.05 0 2.83L4 21.41c.39.39.9.59 1.41.59.51 0 1.02-.2 1.41-.59l7.78-7.78 2.81-2.81c.8-.78.8-2.07 0-2.86zM5.41 20L4 18.59l7.72-7.72 1.47 1.35L5.41 20z\"/>\n",
              "  </svg>\n",
              "      </button>\n",
              "      \n",
              "  <style>\n",
              "    .colab-df-container {\n",
              "      display:flex;\n",
              "      flex-wrap:wrap;\n",
              "      gap: 12px;\n",
              "    }\n",
              "\n",
              "    .colab-df-convert {\n",
              "      background-color: #E8F0FE;\n",
              "      border: none;\n",
              "      border-radius: 50%;\n",
              "      cursor: pointer;\n",
              "      display: none;\n",
              "      fill: #1967D2;\n",
              "      height: 32px;\n",
              "      padding: 0 0 0 0;\n",
              "      width: 32px;\n",
              "    }\n",
              "\n",
              "    .colab-df-convert:hover {\n",
              "      background-color: #E2EBFA;\n",
              "      box-shadow: 0px 1px 2px rgba(60, 64, 67, 0.3), 0px 1px 3px 1px rgba(60, 64, 67, 0.15);\n",
              "      fill: #174EA6;\n",
              "    }\n",
              "\n",
              "    [theme=dark] .colab-df-convert {\n",
              "      background-color: #3B4455;\n",
              "      fill: #D2E3FC;\n",
              "    }\n",
              "\n",
              "    [theme=dark] .colab-df-convert:hover {\n",
              "      background-color: #434B5C;\n",
              "      box-shadow: 0px 1px 3px 1px rgba(0, 0, 0, 0.15);\n",
              "      filter: drop-shadow(0px 1px 2px rgba(0, 0, 0, 0.3));\n",
              "      fill: #FFFFFF;\n",
              "    }\n",
              "  </style>\n",
              "\n",
              "      <script>\n",
              "        const buttonEl =\n",
              "          document.querySelector('#df-ab87a439-821d-444f-b268-5422a83e9f89 button.colab-df-convert');\n",
              "        buttonEl.style.display =\n",
              "          google.colab.kernel.accessAllowed ? 'block' : 'none';\n",
              "\n",
              "        async function convertToInteractive(key) {\n",
              "          const element = document.querySelector('#df-ab87a439-821d-444f-b268-5422a83e9f89');\n",
              "          const dataTable =\n",
              "            await google.colab.kernel.invokeFunction('convertToInteractive',\n",
              "                                                     [key], {});\n",
              "          if (!dataTable) return;\n",
              "\n",
              "          const docLinkHtml = 'Like what you see? Visit the ' +\n",
              "            '<a target=\"_blank\" href=https://colab.research.google.com/notebooks/data_table.ipynb>data table notebook</a>'\n",
              "            + ' to learn more about interactive tables.';\n",
              "          element.innerHTML = '';\n",
              "          dataTable['output_type'] = 'display_data';\n",
              "          await google.colab.output.renderOutput(dataTable, element);\n",
              "          const docLink = document.createElement('div');\n",
              "          docLink.innerHTML = docLinkHtml;\n",
              "          element.appendChild(docLink);\n",
              "        }\n",
              "      </script>\n",
              "    </div>\n",
              "  </div>\n",
              "  "
            ]
          },
          "metadata": {},
          "execution_count": 6
        }
      ],
      "source": [
        "ratings_df.head(3)"
      ]
    },
    {
      "cell_type": "code",
      "execution_count": 7,
      "metadata": {
        "colab": {
          "base_uri": "https://localhost:8080/"
        },
        "id": "ewxWlRLjpKdI",
        "outputId": "ca8a55c0-348e-401a-87d7-e5a0b8e2e302"
      },
      "outputs": [
        {
          "output_type": "execute_result",
          "data": {
            "text/plain": [
              "25000095"
            ]
          },
          "metadata": {},
          "execution_count": 7
        }
      ],
      "source": [
        "len(ratings_df)"
      ]
    },
    {
      "cell_type": "code",
      "source": [
        "# use a subset to train DNN model\n",
        "ratings_df1 = ratings_df[ratings_df.userId < 2000]"
      ],
      "metadata": {
        "id": "8WbbnUVzLQcD"
      },
      "execution_count": 8,
      "outputs": []
    },
    {
      "cell_type": "code",
      "source": [
        "len(ratings_df1)"
      ],
      "metadata": {
        "colab": {
          "base_uri": "https://localhost:8080/"
        },
        "id": "xCQOomBHLfaD",
        "outputId": "a0ceb331-84b2-4f58-d3cb-7bb56c16a33f"
      },
      "execution_count": 9,
      "outputs": [
        {
          "output_type": "execute_result",
          "data": {
            "text/plain": [
              "287678"
            ]
          },
          "metadata": {},
          "execution_count": 9
        }
      ]
    },
    {
      "cell_type": "markdown",
      "metadata": {
        "id": "b2FqwZ8npKdK"
      },
      "source": [
        "**Movies Data File Structure (movies.csv)**  \n",
        "\n",
        "Movie information is contained in the file movies.csv. Each line of this file after the header row represents one movie, and has the following format:\n",
        "\n",
        "- Movie titles are entered manually or imported from https://www.themoviedb.org/, and include the year of release in parentheses. Errors and inconsistencies may exist in these titles.\n",
        "\n",
        "- Genres are a pipe-separated list, and are selected from the following: Action\n",
        "Adventure\n",
        "Animation\n",
        "Children's\n",
        "Comedy\n",
        "Crime\n",
        "Documentary\n",
        "Drama\n",
        "Fantasy\n",
        "Film-Noir\n",
        "Horror\n",
        "Musical\n",
        "Mystery\n",
        "Romance\n",
        "Sci-Fi\n",
        "Thriller\n",
        "War\n",
        "Western\n",
        "(no genres listed)"
      ]
    },
    {
      "cell_type": "code",
      "execution_count": 10,
      "metadata": {
        "colab": {
          "base_uri": "https://localhost:8080/",
          "height": 143
        },
        "id": "DsNq4XXjpKdL",
        "outputId": "8ab35ab4-5f4b-4cfa-9ac7-88019bec2f1a"
      },
      "outputs": [
        {
          "output_type": "execute_result",
          "data": {
            "text/plain": [
              "   movieId                    title  \\\n",
              "0        1         Toy Story (1995)   \n",
              "1        2           Jumanji (1995)   \n",
              "2        3  Grumpier Old Men (1995)   \n",
              "\n",
              "                                        genres  \n",
              "0  Adventure|Animation|Children|Comedy|Fantasy  \n",
              "1                   Adventure|Children|Fantasy  \n",
              "2                               Comedy|Romance  "
            ],
            "text/html": [
              "\n",
              "  <div id=\"df-7aeb5803-f79a-4226-9c23-092ce5ecf6b1\">\n",
              "    <div class=\"colab-df-container\">\n",
              "      <div>\n",
              "<style scoped>\n",
              "    .dataframe tbody tr th:only-of-type {\n",
              "        vertical-align: middle;\n",
              "    }\n",
              "\n",
              "    .dataframe tbody tr th {\n",
              "        vertical-align: top;\n",
              "    }\n",
              "\n",
              "    .dataframe thead th {\n",
              "        text-align: right;\n",
              "    }\n",
              "</style>\n",
              "<table border=\"1\" class=\"dataframe\">\n",
              "  <thead>\n",
              "    <tr style=\"text-align: right;\">\n",
              "      <th></th>\n",
              "      <th>movieId</th>\n",
              "      <th>title</th>\n",
              "      <th>genres</th>\n",
              "    </tr>\n",
              "  </thead>\n",
              "  <tbody>\n",
              "    <tr>\n",
              "      <th>0</th>\n",
              "      <td>1</td>\n",
              "      <td>Toy Story (1995)</td>\n",
              "      <td>Adventure|Animation|Children|Comedy|Fantasy</td>\n",
              "    </tr>\n",
              "    <tr>\n",
              "      <th>1</th>\n",
              "      <td>2</td>\n",
              "      <td>Jumanji (1995)</td>\n",
              "      <td>Adventure|Children|Fantasy</td>\n",
              "    </tr>\n",
              "    <tr>\n",
              "      <th>2</th>\n",
              "      <td>3</td>\n",
              "      <td>Grumpier Old Men (1995)</td>\n",
              "      <td>Comedy|Romance</td>\n",
              "    </tr>\n",
              "  </tbody>\n",
              "</table>\n",
              "</div>\n",
              "      <button class=\"colab-df-convert\" onclick=\"convertToInteractive('df-7aeb5803-f79a-4226-9c23-092ce5ecf6b1')\"\n",
              "              title=\"Convert this dataframe to an interactive table.\"\n",
              "              style=\"display:none;\">\n",
              "        \n",
              "  <svg xmlns=\"http://www.w3.org/2000/svg\" height=\"24px\"viewBox=\"0 0 24 24\"\n",
              "       width=\"24px\">\n",
              "    <path d=\"M0 0h24v24H0V0z\" fill=\"none\"/>\n",
              "    <path d=\"M18.56 5.44l.94 2.06.94-2.06 2.06-.94-2.06-.94-.94-2.06-.94 2.06-2.06.94zm-11 1L8.5 8.5l.94-2.06 2.06-.94-2.06-.94L8.5 2.5l-.94 2.06-2.06.94zm10 10l.94 2.06.94-2.06 2.06-.94-2.06-.94-.94-2.06-.94 2.06-2.06.94z\"/><path d=\"M17.41 7.96l-1.37-1.37c-.4-.4-.92-.59-1.43-.59-.52 0-1.04.2-1.43.59L10.3 9.45l-7.72 7.72c-.78.78-.78 2.05 0 2.83L4 21.41c.39.39.9.59 1.41.59.51 0 1.02-.2 1.41-.59l7.78-7.78 2.81-2.81c.8-.78.8-2.07 0-2.86zM5.41 20L4 18.59l7.72-7.72 1.47 1.35L5.41 20z\"/>\n",
              "  </svg>\n",
              "      </button>\n",
              "      \n",
              "  <style>\n",
              "    .colab-df-container {\n",
              "      display:flex;\n",
              "      flex-wrap:wrap;\n",
              "      gap: 12px;\n",
              "    }\n",
              "\n",
              "    .colab-df-convert {\n",
              "      background-color: #E8F0FE;\n",
              "      border: none;\n",
              "      border-radius: 50%;\n",
              "      cursor: pointer;\n",
              "      display: none;\n",
              "      fill: #1967D2;\n",
              "      height: 32px;\n",
              "      padding: 0 0 0 0;\n",
              "      width: 32px;\n",
              "    }\n",
              "\n",
              "    .colab-df-convert:hover {\n",
              "      background-color: #E2EBFA;\n",
              "      box-shadow: 0px 1px 2px rgba(60, 64, 67, 0.3), 0px 1px 3px 1px rgba(60, 64, 67, 0.15);\n",
              "      fill: #174EA6;\n",
              "    }\n",
              "\n",
              "    [theme=dark] .colab-df-convert {\n",
              "      background-color: #3B4455;\n",
              "      fill: #D2E3FC;\n",
              "    }\n",
              "\n",
              "    [theme=dark] .colab-df-convert:hover {\n",
              "      background-color: #434B5C;\n",
              "      box-shadow: 0px 1px 3px 1px rgba(0, 0, 0, 0.15);\n",
              "      filter: drop-shadow(0px 1px 2px rgba(0, 0, 0, 0.3));\n",
              "      fill: #FFFFFF;\n",
              "    }\n",
              "  </style>\n",
              "\n",
              "      <script>\n",
              "        const buttonEl =\n",
              "          document.querySelector('#df-7aeb5803-f79a-4226-9c23-092ce5ecf6b1 button.colab-df-convert');\n",
              "        buttonEl.style.display =\n",
              "          google.colab.kernel.accessAllowed ? 'block' : 'none';\n",
              "\n",
              "        async function convertToInteractive(key) {\n",
              "          const element = document.querySelector('#df-7aeb5803-f79a-4226-9c23-092ce5ecf6b1');\n",
              "          const dataTable =\n",
              "            await google.colab.kernel.invokeFunction('convertToInteractive',\n",
              "                                                     [key], {});\n",
              "          if (!dataTable) return;\n",
              "\n",
              "          const docLinkHtml = 'Like what you see? Visit the ' +\n",
              "            '<a target=\"_blank\" href=https://colab.research.google.com/notebooks/data_table.ipynb>data table notebook</a>'\n",
              "            + ' to learn more about interactive tables.';\n",
              "          element.innerHTML = '';\n",
              "          dataTable['output_type'] = 'display_data';\n",
              "          await google.colab.output.renderOutput(dataTable, element);\n",
              "          const docLink = document.createElement('div');\n",
              "          docLink.innerHTML = docLinkHtml;\n",
              "          element.appendChild(docLink);\n",
              "        }\n",
              "      </script>\n",
              "    </div>\n",
              "  </div>\n",
              "  "
            ]
          },
          "metadata": {},
          "execution_count": 10
        }
      ],
      "source": [
        "movies_df.head(3)"
      ]
    },
    {
      "cell_type": "code",
      "source": [
        "movies_df1 = movies_df[['movieId','title']]\n",
        "movies_df1.head(3)"
      ],
      "metadata": {
        "colab": {
          "base_uri": "https://localhost:8080/",
          "height": 143
        },
        "id": "2nvbHIS1H_8W",
        "outputId": "45aa9c4b-df9e-412e-e683-c986ae9d9ebe"
      },
      "execution_count": 11,
      "outputs": [
        {
          "output_type": "execute_result",
          "data": {
            "text/plain": [
              "   movieId                    title\n",
              "0        1         Toy Story (1995)\n",
              "1        2           Jumanji (1995)\n",
              "2        3  Grumpier Old Men (1995)"
            ],
            "text/html": [
              "\n",
              "  <div id=\"df-e37e59b9-6759-4119-bc79-dd7eca929166\">\n",
              "    <div class=\"colab-df-container\">\n",
              "      <div>\n",
              "<style scoped>\n",
              "    .dataframe tbody tr th:only-of-type {\n",
              "        vertical-align: middle;\n",
              "    }\n",
              "\n",
              "    .dataframe tbody tr th {\n",
              "        vertical-align: top;\n",
              "    }\n",
              "\n",
              "    .dataframe thead th {\n",
              "        text-align: right;\n",
              "    }\n",
              "</style>\n",
              "<table border=\"1\" class=\"dataframe\">\n",
              "  <thead>\n",
              "    <tr style=\"text-align: right;\">\n",
              "      <th></th>\n",
              "      <th>movieId</th>\n",
              "      <th>title</th>\n",
              "    </tr>\n",
              "  </thead>\n",
              "  <tbody>\n",
              "    <tr>\n",
              "      <th>0</th>\n",
              "      <td>1</td>\n",
              "      <td>Toy Story (1995)</td>\n",
              "    </tr>\n",
              "    <tr>\n",
              "      <th>1</th>\n",
              "      <td>2</td>\n",
              "      <td>Jumanji (1995)</td>\n",
              "    </tr>\n",
              "    <tr>\n",
              "      <th>2</th>\n",
              "      <td>3</td>\n",
              "      <td>Grumpier Old Men (1995)</td>\n",
              "    </tr>\n",
              "  </tbody>\n",
              "</table>\n",
              "</div>\n",
              "      <button class=\"colab-df-convert\" onclick=\"convertToInteractive('df-e37e59b9-6759-4119-bc79-dd7eca929166')\"\n",
              "              title=\"Convert this dataframe to an interactive table.\"\n",
              "              style=\"display:none;\">\n",
              "        \n",
              "  <svg xmlns=\"http://www.w3.org/2000/svg\" height=\"24px\"viewBox=\"0 0 24 24\"\n",
              "       width=\"24px\">\n",
              "    <path d=\"M0 0h24v24H0V0z\" fill=\"none\"/>\n",
              "    <path d=\"M18.56 5.44l.94 2.06.94-2.06 2.06-.94-2.06-.94-.94-2.06-.94 2.06-2.06.94zm-11 1L8.5 8.5l.94-2.06 2.06-.94-2.06-.94L8.5 2.5l-.94 2.06-2.06.94zm10 10l.94 2.06.94-2.06 2.06-.94-2.06-.94-.94-2.06-.94 2.06-2.06.94z\"/><path d=\"M17.41 7.96l-1.37-1.37c-.4-.4-.92-.59-1.43-.59-.52 0-1.04.2-1.43.59L10.3 9.45l-7.72 7.72c-.78.78-.78 2.05 0 2.83L4 21.41c.39.39.9.59 1.41.59.51 0 1.02-.2 1.41-.59l7.78-7.78 2.81-2.81c.8-.78.8-2.07 0-2.86zM5.41 20L4 18.59l7.72-7.72 1.47 1.35L5.41 20z\"/>\n",
              "  </svg>\n",
              "      </button>\n",
              "      \n",
              "  <style>\n",
              "    .colab-df-container {\n",
              "      display:flex;\n",
              "      flex-wrap:wrap;\n",
              "      gap: 12px;\n",
              "    }\n",
              "\n",
              "    .colab-df-convert {\n",
              "      background-color: #E8F0FE;\n",
              "      border: none;\n",
              "      border-radius: 50%;\n",
              "      cursor: pointer;\n",
              "      display: none;\n",
              "      fill: #1967D2;\n",
              "      height: 32px;\n",
              "      padding: 0 0 0 0;\n",
              "      width: 32px;\n",
              "    }\n",
              "\n",
              "    .colab-df-convert:hover {\n",
              "      background-color: #E2EBFA;\n",
              "      box-shadow: 0px 1px 2px rgba(60, 64, 67, 0.3), 0px 1px 3px 1px rgba(60, 64, 67, 0.15);\n",
              "      fill: #174EA6;\n",
              "    }\n",
              "\n",
              "    [theme=dark] .colab-df-convert {\n",
              "      background-color: #3B4455;\n",
              "      fill: #D2E3FC;\n",
              "    }\n",
              "\n",
              "    [theme=dark] .colab-df-convert:hover {\n",
              "      background-color: #434B5C;\n",
              "      box-shadow: 0px 1px 3px 1px rgba(0, 0, 0, 0.15);\n",
              "      filter: drop-shadow(0px 1px 2px rgba(0, 0, 0, 0.3));\n",
              "      fill: #FFFFFF;\n",
              "    }\n",
              "  </style>\n",
              "\n",
              "      <script>\n",
              "        const buttonEl =\n",
              "          document.querySelector('#df-e37e59b9-6759-4119-bc79-dd7eca929166 button.colab-df-convert');\n",
              "        buttonEl.style.display =\n",
              "          google.colab.kernel.accessAllowed ? 'block' : 'none';\n",
              "\n",
              "        async function convertToInteractive(key) {\n",
              "          const element = document.querySelector('#df-e37e59b9-6759-4119-bc79-dd7eca929166');\n",
              "          const dataTable =\n",
              "            await google.colab.kernel.invokeFunction('convertToInteractive',\n",
              "                                                     [key], {});\n",
              "          if (!dataTable) return;\n",
              "\n",
              "          const docLinkHtml = 'Like what you see? Visit the ' +\n",
              "            '<a target=\"_blank\" href=https://colab.research.google.com/notebooks/data_table.ipynb>data table notebook</a>'\n",
              "            + ' to learn more about interactive tables.';\n",
              "          element.innerHTML = '';\n",
              "          dataTable['output_type'] = 'display_data';\n",
              "          await google.colab.output.renderOutput(dataTable, element);\n",
              "          const docLink = document.createElement('div');\n",
              "          docLink.innerHTML = docLinkHtml;\n",
              "          element.appendChild(docLink);\n",
              "        }\n",
              "      </script>\n",
              "    </div>\n",
              "  </div>\n",
              "  "
            ]
          },
          "metadata": {},
          "execution_count": 11
        }
      ]
    },
    {
      "cell_type": "code",
      "source": [
        "merged_df = pd.merge(ratings_df1, movies_df1, how='inner', on='movieId')\n",
        "merged_df.head(3)"
      ],
      "metadata": {
        "colab": {
          "base_uri": "https://localhost:8080/",
          "height": 143
        },
        "id": "9Rs4XOqvINng",
        "outputId": "4b1e4b3c-0a3a-4acc-891d-eff661933a92"
      },
      "execution_count": 12,
      "outputs": [
        {
          "output_type": "execute_result",
          "data": {
            "text/plain": [
              "   userId  movieId  rating   timestamp                title\n",
              "0       1      296     5.0  1147880044  Pulp Fiction (1994)\n",
              "1       3      296     5.0  1439474476  Pulp Fiction (1994)\n",
              "2       4      296     4.0  1573938898  Pulp Fiction (1994)"
            ],
            "text/html": [
              "\n",
              "  <div id=\"df-00ae54c0-de3c-4fc6-9c7a-99a5f5771a54\">\n",
              "    <div class=\"colab-df-container\">\n",
              "      <div>\n",
              "<style scoped>\n",
              "    .dataframe tbody tr th:only-of-type {\n",
              "        vertical-align: middle;\n",
              "    }\n",
              "\n",
              "    .dataframe tbody tr th {\n",
              "        vertical-align: top;\n",
              "    }\n",
              "\n",
              "    .dataframe thead th {\n",
              "        text-align: right;\n",
              "    }\n",
              "</style>\n",
              "<table border=\"1\" class=\"dataframe\">\n",
              "  <thead>\n",
              "    <tr style=\"text-align: right;\">\n",
              "      <th></th>\n",
              "      <th>userId</th>\n",
              "      <th>movieId</th>\n",
              "      <th>rating</th>\n",
              "      <th>timestamp</th>\n",
              "      <th>title</th>\n",
              "    </tr>\n",
              "  </thead>\n",
              "  <tbody>\n",
              "    <tr>\n",
              "      <th>0</th>\n",
              "      <td>1</td>\n",
              "      <td>296</td>\n",
              "      <td>5.0</td>\n",
              "      <td>1147880044</td>\n",
              "      <td>Pulp Fiction (1994)</td>\n",
              "    </tr>\n",
              "    <tr>\n",
              "      <th>1</th>\n",
              "      <td>3</td>\n",
              "      <td>296</td>\n",
              "      <td>5.0</td>\n",
              "      <td>1439474476</td>\n",
              "      <td>Pulp Fiction (1994)</td>\n",
              "    </tr>\n",
              "    <tr>\n",
              "      <th>2</th>\n",
              "      <td>4</td>\n",
              "      <td>296</td>\n",
              "      <td>4.0</td>\n",
              "      <td>1573938898</td>\n",
              "      <td>Pulp Fiction (1994)</td>\n",
              "    </tr>\n",
              "  </tbody>\n",
              "</table>\n",
              "</div>\n",
              "      <button class=\"colab-df-convert\" onclick=\"convertToInteractive('df-00ae54c0-de3c-4fc6-9c7a-99a5f5771a54')\"\n",
              "              title=\"Convert this dataframe to an interactive table.\"\n",
              "              style=\"display:none;\">\n",
              "        \n",
              "  <svg xmlns=\"http://www.w3.org/2000/svg\" height=\"24px\"viewBox=\"0 0 24 24\"\n",
              "       width=\"24px\">\n",
              "    <path d=\"M0 0h24v24H0V0z\" fill=\"none\"/>\n",
              "    <path d=\"M18.56 5.44l.94 2.06.94-2.06 2.06-.94-2.06-.94-.94-2.06-.94 2.06-2.06.94zm-11 1L8.5 8.5l.94-2.06 2.06-.94-2.06-.94L8.5 2.5l-.94 2.06-2.06.94zm10 10l.94 2.06.94-2.06 2.06-.94-2.06-.94-.94-2.06-.94 2.06-2.06.94z\"/><path d=\"M17.41 7.96l-1.37-1.37c-.4-.4-.92-.59-1.43-.59-.52 0-1.04.2-1.43.59L10.3 9.45l-7.72 7.72c-.78.78-.78 2.05 0 2.83L4 21.41c.39.39.9.59 1.41.59.51 0 1.02-.2 1.41-.59l7.78-7.78 2.81-2.81c.8-.78.8-2.07 0-2.86zM5.41 20L4 18.59l7.72-7.72 1.47 1.35L5.41 20z\"/>\n",
              "  </svg>\n",
              "      </button>\n",
              "      \n",
              "  <style>\n",
              "    .colab-df-container {\n",
              "      display:flex;\n",
              "      flex-wrap:wrap;\n",
              "      gap: 12px;\n",
              "    }\n",
              "\n",
              "    .colab-df-convert {\n",
              "      background-color: #E8F0FE;\n",
              "      border: none;\n",
              "      border-radius: 50%;\n",
              "      cursor: pointer;\n",
              "      display: none;\n",
              "      fill: #1967D2;\n",
              "      height: 32px;\n",
              "      padding: 0 0 0 0;\n",
              "      width: 32px;\n",
              "    }\n",
              "\n",
              "    .colab-df-convert:hover {\n",
              "      background-color: #E2EBFA;\n",
              "      box-shadow: 0px 1px 2px rgba(60, 64, 67, 0.3), 0px 1px 3px 1px rgba(60, 64, 67, 0.15);\n",
              "      fill: #174EA6;\n",
              "    }\n",
              "\n",
              "    [theme=dark] .colab-df-convert {\n",
              "      background-color: #3B4455;\n",
              "      fill: #D2E3FC;\n",
              "    }\n",
              "\n",
              "    [theme=dark] .colab-df-convert:hover {\n",
              "      background-color: #434B5C;\n",
              "      box-shadow: 0px 1px 3px 1px rgba(0, 0, 0, 0.15);\n",
              "      filter: drop-shadow(0px 1px 2px rgba(0, 0, 0, 0.3));\n",
              "      fill: #FFFFFF;\n",
              "    }\n",
              "  </style>\n",
              "\n",
              "      <script>\n",
              "        const buttonEl =\n",
              "          document.querySelector('#df-00ae54c0-de3c-4fc6-9c7a-99a5f5771a54 button.colab-df-convert');\n",
              "        buttonEl.style.display =\n",
              "          google.colab.kernel.accessAllowed ? 'block' : 'none';\n",
              "\n",
              "        async function convertToInteractive(key) {\n",
              "          const element = document.querySelector('#df-00ae54c0-de3c-4fc6-9c7a-99a5f5771a54');\n",
              "          const dataTable =\n",
              "            await google.colab.kernel.invokeFunction('convertToInteractive',\n",
              "                                                     [key], {});\n",
              "          if (!dataTable) return;\n",
              "\n",
              "          const docLinkHtml = 'Like what you see? Visit the ' +\n",
              "            '<a target=\"_blank\" href=https://colab.research.google.com/notebooks/data_table.ipynb>data table notebook</a>'\n",
              "            + ' to learn more about interactive tables.';\n",
              "          element.innerHTML = '';\n",
              "          dataTable['output_type'] = 'display_data';\n",
              "          await google.colab.output.renderOutput(dataTable, element);\n",
              "          const docLink = document.createElement('div');\n",
              "          docLink.innerHTML = docLinkHtml;\n",
              "          element.appendChild(docLink);\n",
              "        }\n",
              "      </script>\n",
              "    </div>\n",
              "  </div>\n",
              "  "
            ]
          },
          "metadata": {},
          "execution_count": 12
        }
      ]
    },
    {
      "cell_type": "code",
      "source": [
        "len(merged_df)"
      ],
      "metadata": {
        "colab": {
          "base_uri": "https://localhost:8080/"
        },
        "id": "luzAJWsUknNS",
        "outputId": "a95f5de1-4f08-493d-9c06-693c4943f7be"
      },
      "execution_count": 13,
      "outputs": [
        {
          "output_type": "execute_result",
          "data": {
            "text/plain": [
              "287678"
            ]
          },
          "metadata": {},
          "execution_count": 13
        }
      ]
    },
    {
      "cell_type": "code",
      "source": [
        "user_encoder, movie_encoder = LabelEncoder(), LabelEncoder()\n",
        "merged_df['uid_enc'] = user_encoder.fit_transform(merged_df['userId'].values)\n",
        "merged_df['mid_enc'] = movie_encoder.fit_transform(merged_df['movieId'].values)"
      ],
      "metadata": {
        "id": "2E-lukcdo6xc"
      },
      "execution_count": 14,
      "outputs": []
    },
    {
      "cell_type": "code",
      "source": [
        "X = merged_df[['uid_enc', 'mid_enc']].values\n",
        "y = merged_df['rating'].values\n",
        "X_train, X_val, y_train, y_val = train_test_split(X, y, test_size=0.1, random_state=42)\n",
        "print(X_train.shape, X_val.shape, y_train.shape, y_val.shape)\n"
      ],
      "metadata": {
        "colab": {
          "base_uri": "https://localhost:8080/"
        },
        "id": "DOfUaHOQLJCP",
        "outputId": "72bc3ce6-bd54-4e4b-c56a-b8f0f1cfa50e"
      },
      "execution_count": 15,
      "outputs": [
        {
          "output_type": "stream",
          "name": "stdout",
          "text": [
            "(258910, 2) (28768, 2) (258910,) (28768,)\n"
          ]
        }
      ]
    },
    {
      "cell_type": "code",
      "source": [
        "X_train_array = [X_train[:, 0], X_train[:, 1]]\n",
        "X_val_array = [X_val[:, 0], X_val[:, 1]]\n",
        "# scale to 1-10\n",
        "y_train_array = 2 * y_train - 1\n",
        "y_val_array = 2 * y_val - 1"
      ],
      "metadata": {
        "id": "ujD5mW_VV9-d"
      },
      "execution_count": 16,
      "outputs": []
    },
    {
      "cell_type": "code",
      "source": [
        "num_users = merged_df['uid_enc'].nunique()\n",
        "num_movies = merged_df['mid_enc'].nunique()\n",
        "embedding_size = 128"
      ],
      "metadata": {
        "id": "nZU67dJ4WVLc"
      },
      "execution_count": 17,
      "outputs": []
    },
    {
      "cell_type": "code",
      "source": [
        "dropout_rate = 0.15\n",
        "u_emb_input = Input(shape=(1,))\n",
        "m_emb_input = Input(shape=(1,))\n",
        "\n",
        "u_emb = Embedding(\n",
        "    num_users, \n",
        "    embedding_size, \n",
        "    embeddings_regularizer = l2(1e-6))(u_emb_input)\n",
        "\n",
        "u_emb = Flatten()(u_emb)\n",
        "\n",
        "m_emb = Embedding(\n",
        "    num_movies, \n",
        "    embedding_size, \n",
        "    embeddings_regularizer = l2(1e-6))(m_emb_input)\n",
        "\n",
        "m_emb = Flatten()(m_emb)\n",
        "\n",
        "concat = Concatenate()([u_emb,m_emb])\n",
        "\n",
        "concat = Dropout(dropout_rate)(concat)\n",
        "\n",
        "dnn = Dense(32, activation='relu')(concat)\n",
        "dnn = BatchNormalization()(dnn)\n",
        "dnn = Dropout(dropout_rate)(dnn)\n",
        "\n",
        "dnn = Dense(16, activation='relu')(dnn)\n",
        "dnn = BatchNormalization()(dnn)\n",
        "dnn = Dropout(dropout_rate)(dnn)\n",
        "\n",
        "# Output layer with Softmax activation: 10 \n",
        "out = Dense(10, activation='softmax')(dnn)\n",
        "\n",
        "model = Model(inputs=[u_emb_input,m_emb_input], outputs=out)\n"
      ],
      "metadata": {
        "id": "rxyOrKEVWSkZ"
      },
      "execution_count": 23,
      "outputs": []
    },
    {
      "cell_type": "code",
      "source": [
        "model.summary()"
      ],
      "metadata": {
        "colab": {
          "base_uri": "https://localhost:8080/"
        },
        "id": "GouFCmbe2ioZ",
        "outputId": "84575124-f7e5-4217-ccab-d6617594151a"
      },
      "execution_count": 57,
      "outputs": [
        {
          "output_type": "stream",
          "name": "stdout",
          "text": [
            "Model: \"model_1\"\n",
            "__________________________________________________________________________________________________\n",
            " Layer (type)                   Output Shape         Param #     Connected to                     \n",
            "==================================================================================================\n",
            " input_3 (InputLayer)           [(None, 1)]          0           []                               \n",
            "                                                                                                  \n",
            " input_4 (InputLayer)           [(None, 1)]          0           []                               \n",
            "                                                                                                  \n",
            " embedding_2 (Embedding)        (None, 1, 128)       255872      ['input_3[0][0]']                \n",
            "                                                                                                  \n",
            " embedding_3 (Embedding)        (None, 1, 128)       1849856     ['input_4[0][0]']                \n",
            "                                                                                                  \n",
            " flatten_2 (Flatten)            (None, 128)          0           ['embedding_2[0][0]']            \n",
            "                                                                                                  \n",
            " flatten_3 (Flatten)            (None, 128)          0           ['embedding_3[0][0]']            \n",
            "                                                                                                  \n",
            " concatenate_1 (Concatenate)    (None, 256)          0           ['flatten_2[0][0]',              \n",
            "                                                                  'flatten_3[0][0]']              \n",
            "                                                                                                  \n",
            " dropout_3 (Dropout)            (None, 256)          0           ['concatenate_1[0][0]']          \n",
            "                                                                                                  \n",
            " dense_3 (Dense)                (None, 32)           8224        ['dropout_3[0][0]']              \n",
            "                                                                                                  \n",
            " batch_normalization_2 (BatchNo  (None, 32)          128         ['dense_3[0][0]']                \n",
            " rmalization)                                                                                     \n",
            "                                                                                                  \n",
            " dropout_4 (Dropout)            (None, 32)           0           ['batch_normalization_2[0][0]']  \n",
            "                                                                                                  \n",
            " dense_4 (Dense)                (None, 16)           528         ['dropout_4[0][0]']              \n",
            "                                                                                                  \n",
            " batch_normalization_3 (BatchNo  (None, 16)          64          ['dense_4[0][0]']                \n",
            " rmalization)                                                                                     \n",
            "                                                                                                  \n",
            " dropout_5 (Dropout)            (None, 16)           0           ['batch_normalization_3[0][0]']  \n",
            "                                                                                                  \n",
            " dense_5 (Dense)                (None, 10)           170         ['dropout_5[0][0]']              \n",
            "                                                                                                  \n",
            "==================================================================================================\n",
            "Total params: 2,114,842\n",
            "Trainable params: 2,114,746\n",
            "Non-trainable params: 96\n",
            "__________________________________________________________________________________________________\n"
          ]
        }
      ]
    },
    {
      "cell_type": "code",
      "source": [
        "from keras.optimizers import SGD\n",
        "model.compile(\n",
        "    optimizer=SGD(learning_rate=0.001),\n",
        "    loss=SparseCategoricalCrossentropy(from_logits=True), \n",
        "    metrics=['accuracy'])\n",
        "\n",
        "history = model.fit(\n",
        "    x = X_train_array,\n",
        "    y = y_train_array, \n",
        "    batch_size=128, \n",
        "    epochs=80, \n",
        "    verbose=1, \n",
        "    validation_data=(X_val_array, y_val_array), \n",
        "    shuffle=True, \n",
        "    )"
      ],
      "metadata": {
        "colab": {
          "base_uri": "https://localhost:8080/"
        },
        "id": "YAiDL8H-YNs-",
        "outputId": "056e73db-89d0-4673-9f60-630b17d96dce"
      },
      "execution_count": 24,
      "outputs": [
        {
          "output_type": "stream",
          "name": "stdout",
          "text": [
            "Epoch 1/80\n",
            "2023/2023 [==============================] - 9s 4ms/step - loss: 2.5233 - accuracy: 0.1338 - val_loss: 2.2150 - val_accuracy: 0.1951\n",
            "Epoch 2/80\n",
            "2023/2023 [==============================] - 8s 4ms/step - loss: 2.2299 - accuracy: 0.2011 - val_loss: 2.0837 - val_accuracy: 0.2550\n",
            "Epoch 3/80\n",
            "2023/2023 [==============================] - 8s 4ms/step - loss: 2.1174 - accuracy: 0.2406 - val_loss: 2.0166 - val_accuracy: 0.2736\n",
            "Epoch 4/80\n",
            "2023/2023 [==============================] - 8s 4ms/step - loss: 2.0556 - accuracy: 0.2573 - val_loss: 1.9779 - val_accuracy: 0.2810\n",
            "Epoch 5/80\n",
            "2023/2023 [==============================] - 8s 4ms/step - loss: 2.0179 - accuracy: 0.2655 - val_loss: 1.9524 - val_accuracy: 0.2844\n",
            "Epoch 6/80\n",
            "2023/2023 [==============================] - 8s 4ms/step - loss: 1.9915 - accuracy: 0.2712 - val_loss: 1.9309 - val_accuracy: 0.2861\n",
            "Epoch 7/80\n",
            "2023/2023 [==============================] - 8s 4ms/step - loss: 1.9706 - accuracy: 0.2751 - val_loss: 1.9136 - val_accuracy: 0.2889\n",
            "Epoch 8/80\n",
            "2023/2023 [==============================] - 8s 4ms/step - loss: 1.9519 - accuracy: 0.2799 - val_loss: 1.8982 - val_accuracy: 0.2910\n",
            "Epoch 9/80\n",
            "2023/2023 [==============================] - 8s 4ms/step - loss: 1.9355 - accuracy: 0.2825 - val_loss: 1.8842 - val_accuracy: 0.2941\n",
            "Epoch 10/80\n",
            "2023/2023 [==============================] - 8s 4ms/step - loss: 1.9213 - accuracy: 0.2870 - val_loss: 1.8709 - val_accuracy: 0.2979\n",
            "Epoch 11/80\n",
            "2023/2023 [==============================] - 8s 4ms/step - loss: 1.9069 - accuracy: 0.2895 - val_loss: 1.8588 - val_accuracy: 0.2990\n",
            "Epoch 12/80\n",
            "2023/2023 [==============================] - 8s 4ms/step - loss: 1.8943 - accuracy: 0.2921 - val_loss: 1.8469 - val_accuracy: 0.3022\n",
            "Epoch 13/80\n",
            "2023/2023 [==============================] - 8s 4ms/step - loss: 1.8838 - accuracy: 0.2947 - val_loss: 1.8363 - val_accuracy: 0.3057\n",
            "Epoch 14/80\n",
            "2023/2023 [==============================] - 8s 4ms/step - loss: 1.8715 - accuracy: 0.2976 - val_loss: 1.8253 - val_accuracy: 0.3075\n",
            "Epoch 15/80\n",
            "2023/2023 [==============================] - 8s 4ms/step - loss: 1.8621 - accuracy: 0.2985 - val_loss: 1.8156 - val_accuracy: 0.3103\n",
            "Epoch 16/80\n",
            "2023/2023 [==============================] - 8s 4ms/step - loss: 1.8519 - accuracy: 0.3009 - val_loss: 1.8057 - val_accuracy: 0.3127\n",
            "Epoch 17/80\n",
            "2023/2023 [==============================] - 8s 4ms/step - loss: 1.8414 - accuracy: 0.3020 - val_loss: 1.7963 - val_accuracy: 0.3146\n",
            "Epoch 18/80\n",
            "2023/2023 [==============================] - 8s 4ms/step - loss: 1.8321 - accuracy: 0.3052 - val_loss: 1.7873 - val_accuracy: 0.3152\n",
            "Epoch 19/80\n",
            "2023/2023 [==============================] - 8s 4ms/step - loss: 1.8247 - accuracy: 0.3062 - val_loss: 1.7791 - val_accuracy: 0.3165\n",
            "Epoch 20/80\n",
            "2023/2023 [==============================] - 8s 4ms/step - loss: 1.8148 - accuracy: 0.3081 - val_loss: 1.7708 - val_accuracy: 0.3195\n",
            "Epoch 21/80\n",
            "2023/2023 [==============================] - 8s 4ms/step - loss: 1.8068 - accuracy: 0.3095 - val_loss: 1.7629 - val_accuracy: 0.3199\n",
            "Epoch 22/80\n",
            "2023/2023 [==============================] - 8s 4ms/step - loss: 1.8001 - accuracy: 0.3109 - val_loss: 1.7555 - val_accuracy: 0.3212\n",
            "Epoch 23/80\n",
            "2023/2023 [==============================] - 8s 4ms/step - loss: 1.7916 - accuracy: 0.3120 - val_loss: 1.7484 - val_accuracy: 0.3235\n",
            "Epoch 24/80\n",
            "2023/2023 [==============================] - 8s 4ms/step - loss: 1.7859 - accuracy: 0.3140 - val_loss: 1.7423 - val_accuracy: 0.3246\n",
            "Epoch 25/80\n",
            "2023/2023 [==============================] - 8s 4ms/step - loss: 1.7787 - accuracy: 0.3163 - val_loss: 1.7358 - val_accuracy: 0.3266\n",
            "Epoch 26/80\n",
            "2023/2023 [==============================] - 8s 4ms/step - loss: 1.7714 - accuracy: 0.3177 - val_loss: 1.7301 - val_accuracy: 0.3274\n",
            "Epoch 27/80\n",
            "2023/2023 [==============================] - 8s 4ms/step - loss: 1.7661 - accuracy: 0.3181 - val_loss: 1.7245 - val_accuracy: 0.3286\n",
            "Epoch 28/80\n",
            "2023/2023 [==============================] - 8s 4ms/step - loss: 1.7609 - accuracy: 0.3187 - val_loss: 1.7190 - val_accuracy: 0.3307\n",
            "Epoch 29/80\n",
            "2023/2023 [==============================] - 8s 4ms/step - loss: 1.7545 - accuracy: 0.3201 - val_loss: 1.7139 - val_accuracy: 0.3326\n",
            "Epoch 30/80\n",
            "2023/2023 [==============================] - 8s 4ms/step - loss: 1.7489 - accuracy: 0.3215 - val_loss: 1.7093 - val_accuracy: 0.3326\n",
            "Epoch 31/80\n",
            "2023/2023 [==============================] - 8s 4ms/step - loss: 1.7446 - accuracy: 0.3228 - val_loss: 1.7050 - val_accuracy: 0.3334\n",
            "Epoch 32/80\n",
            "2023/2023 [==============================] - 8s 4ms/step - loss: 1.7413 - accuracy: 0.3233 - val_loss: 1.7007 - val_accuracy: 0.3334\n",
            "Epoch 33/80\n",
            "2023/2023 [==============================] - 8s 4ms/step - loss: 1.7361 - accuracy: 0.3240 - val_loss: 1.6973 - val_accuracy: 0.3338\n",
            "Epoch 34/80\n",
            "2023/2023 [==============================] - 8s 4ms/step - loss: 1.7321 - accuracy: 0.3256 - val_loss: 1.6927 - val_accuracy: 0.3351\n",
            "Epoch 35/80\n",
            "2023/2023 [==============================] - 8s 4ms/step - loss: 1.7287 - accuracy: 0.3264 - val_loss: 1.6896 - val_accuracy: 0.3361\n",
            "Epoch 36/80\n",
            "2023/2023 [==============================] - 8s 4ms/step - loss: 1.7246 - accuracy: 0.3278 - val_loss: 1.6856 - val_accuracy: 0.3364\n",
            "Epoch 37/80\n",
            "2023/2023 [==============================] - 8s 4ms/step - loss: 1.7210 - accuracy: 0.3280 - val_loss: 1.6825 - val_accuracy: 0.3382\n",
            "Epoch 38/80\n",
            "2023/2023 [==============================] - 8s 4ms/step - loss: 1.7177 - accuracy: 0.3282 - val_loss: 1.6793 - val_accuracy: 0.3393\n",
            "Epoch 39/80\n",
            "2023/2023 [==============================] - 8s 4ms/step - loss: 1.7138 - accuracy: 0.3289 - val_loss: 1.6765 - val_accuracy: 0.3395\n",
            "Epoch 40/80\n",
            "2023/2023 [==============================] - 8s 4ms/step - loss: 1.7111 - accuracy: 0.3298 - val_loss: 1.6739 - val_accuracy: 0.3400\n",
            "Epoch 41/80\n",
            "2023/2023 [==============================] - 8s 4ms/step - loss: 1.7077 - accuracy: 0.3320 - val_loss: 1.6711 - val_accuracy: 0.3402\n",
            "Epoch 42/80\n",
            "2023/2023 [==============================] - 8s 4ms/step - loss: 1.7060 - accuracy: 0.3306 - val_loss: 1.6690 - val_accuracy: 0.3415\n",
            "Epoch 43/80\n",
            "2023/2023 [==============================] - 8s 4ms/step - loss: 1.7023 - accuracy: 0.3336 - val_loss: 1.6663 - val_accuracy: 0.3425\n",
            "Epoch 44/80\n",
            "2023/2023 [==============================] - 8s 4ms/step - loss: 1.6990 - accuracy: 0.3338 - val_loss: 1.6640 - val_accuracy: 0.3426\n",
            "Epoch 45/80\n",
            "2023/2023 [==============================] - 8s 4ms/step - loss: 1.6971 - accuracy: 0.3339 - val_loss: 1.6615 - val_accuracy: 0.3432\n",
            "Epoch 46/80\n",
            "2023/2023 [==============================] - 8s 4ms/step - loss: 1.6953 - accuracy: 0.3346 - val_loss: 1.6597 - val_accuracy: 0.3440\n",
            "Epoch 47/80\n",
            "2023/2023 [==============================] - 8s 4ms/step - loss: 1.6922 - accuracy: 0.3352 - val_loss: 1.6572 - val_accuracy: 0.3439\n",
            "Epoch 48/80\n",
            "2023/2023 [==============================] - 8s 4ms/step - loss: 1.6899 - accuracy: 0.3356 - val_loss: 1.6553 - val_accuracy: 0.3453\n",
            "Epoch 49/80\n",
            "2023/2023 [==============================] - 8s 4ms/step - loss: 1.6872 - accuracy: 0.3362 - val_loss: 1.6535 - val_accuracy: 0.3457\n",
            "Epoch 50/80\n",
            "2023/2023 [==============================] - 9s 4ms/step - loss: 1.6861 - accuracy: 0.3375 - val_loss: 1.6516 - val_accuracy: 0.3459\n",
            "Epoch 51/80\n",
            "2023/2023 [==============================] - 8s 4ms/step - loss: 1.6850 - accuracy: 0.3365 - val_loss: 1.6501 - val_accuracy: 0.3472\n",
            "Epoch 52/80\n",
            "2023/2023 [==============================] - 9s 4ms/step - loss: 1.6826 - accuracy: 0.3375 - val_loss: 1.6487 - val_accuracy: 0.3463\n",
            "Epoch 53/80\n",
            "2023/2023 [==============================] - 9s 4ms/step - loss: 1.6797 - accuracy: 0.3387 - val_loss: 1.6468 - val_accuracy: 0.3463\n",
            "Epoch 54/80\n",
            "2023/2023 [==============================] - 8s 4ms/step - loss: 1.6780 - accuracy: 0.3397 - val_loss: 1.6451 - val_accuracy: 0.3478\n",
            "Epoch 55/80\n",
            "2023/2023 [==============================] - 9s 5ms/step - loss: 1.6769 - accuracy: 0.3386 - val_loss: 1.6436 - val_accuracy: 0.3481\n",
            "Epoch 56/80\n",
            "2023/2023 [==============================] - 9s 4ms/step - loss: 1.6752 - accuracy: 0.3403 - val_loss: 1.6425 - val_accuracy: 0.3492\n",
            "Epoch 57/80\n",
            "2023/2023 [==============================] - 8s 4ms/step - loss: 1.6733 - accuracy: 0.3396 - val_loss: 1.6410 - val_accuracy: 0.3483\n",
            "Epoch 58/80\n",
            "2023/2023 [==============================] - 8s 4ms/step - loss: 1.6712 - accuracy: 0.3412 - val_loss: 1.6397 - val_accuracy: 0.3481\n",
            "Epoch 59/80\n",
            "2023/2023 [==============================] - 8s 4ms/step - loss: 1.6704 - accuracy: 0.3417 - val_loss: 1.6383 - val_accuracy: 0.3492\n",
            "Epoch 60/80\n",
            "2023/2023 [==============================] - 8s 4ms/step - loss: 1.6675 - accuracy: 0.3426 - val_loss: 1.6370 - val_accuracy: 0.3495\n",
            "Epoch 61/80\n",
            "2023/2023 [==============================] - 8s 4ms/step - loss: 1.6668 - accuracy: 0.3409 - val_loss: 1.6359 - val_accuracy: 0.3491\n",
            "Epoch 62/80\n",
            "2023/2023 [==============================] - 8s 4ms/step - loss: 1.6652 - accuracy: 0.3427 - val_loss: 1.6346 - val_accuracy: 0.3504\n",
            "Epoch 63/80\n",
            "2023/2023 [==============================] - 8s 4ms/step - loss: 1.6645 - accuracy: 0.3427 - val_loss: 1.6335 - val_accuracy: 0.3501\n",
            "Epoch 64/80\n",
            "2023/2023 [==============================] - 8s 4ms/step - loss: 1.6631 - accuracy: 0.3422 - val_loss: 1.6321 - val_accuracy: 0.3505\n",
            "Epoch 65/80\n",
            "2023/2023 [==============================] - 8s 4ms/step - loss: 1.6609 - accuracy: 0.3440 - val_loss: 1.6315 - val_accuracy: 0.3510\n",
            "Epoch 66/80\n",
            "2023/2023 [==============================] - 8s 4ms/step - loss: 1.6588 - accuracy: 0.3455 - val_loss: 1.6298 - val_accuracy: 0.3517\n",
            "Epoch 67/80\n",
            "2023/2023 [==============================] - 8s 4ms/step - loss: 1.6580 - accuracy: 0.3441 - val_loss: 1.6288 - val_accuracy: 0.3524\n",
            "Epoch 68/80\n",
            "2023/2023 [==============================] - 8s 4ms/step - loss: 1.6568 - accuracy: 0.3455 - val_loss: 1.6277 - val_accuracy: 0.3522\n",
            "Epoch 69/80\n",
            "2023/2023 [==============================] - 9s 4ms/step - loss: 1.6569 - accuracy: 0.3454 - val_loss: 1.6268 - val_accuracy: 0.3525\n",
            "Epoch 70/80\n",
            "2023/2023 [==============================] - 8s 4ms/step - loss: 1.6542 - accuracy: 0.3458 - val_loss: 1.6263 - val_accuracy: 0.3527\n",
            "Epoch 71/80\n",
            "2023/2023 [==============================] - 8s 4ms/step - loss: 1.6516 - accuracy: 0.3467 - val_loss: 1.6250 - val_accuracy: 0.3527\n",
            "Epoch 72/80\n",
            "2023/2023 [==============================] - 8s 4ms/step - loss: 1.6520 - accuracy: 0.3466 - val_loss: 1.6244 - val_accuracy: 0.3529\n",
            "Epoch 73/80\n",
            "2023/2023 [==============================] - 8s 4ms/step - loss: 1.6523 - accuracy: 0.3461 - val_loss: 1.6236 - val_accuracy: 0.3531\n",
            "Epoch 74/80\n",
            "2023/2023 [==============================] - 8s 4ms/step - loss: 1.6511 - accuracy: 0.3470 - val_loss: 1.6225 - val_accuracy: 0.3533\n",
            "Epoch 75/80\n",
            "2023/2023 [==============================] - 9s 4ms/step - loss: 1.6494 - accuracy: 0.3472 - val_loss: 1.6217 - val_accuracy: 0.3540\n",
            "Epoch 76/80\n",
            "2023/2023 [==============================] - 8s 4ms/step - loss: 1.6465 - accuracy: 0.3479 - val_loss: 1.6212 - val_accuracy: 0.3537\n",
            "Epoch 77/80\n",
            "2023/2023 [==============================] - 8s 4ms/step - loss: 1.6479 - accuracy: 0.3480 - val_loss: 1.6205 - val_accuracy: 0.3543\n",
            "Epoch 78/80\n",
            "2023/2023 [==============================] - 8s 4ms/step - loss: 1.6466 - accuracy: 0.3478 - val_loss: 1.6194 - val_accuracy: 0.3541\n",
            "Epoch 79/80\n",
            "2023/2023 [==============================] - 9s 4ms/step - loss: 1.6444 - accuracy: 0.3489 - val_loss: 1.6189 - val_accuracy: 0.3539\n",
            "Epoch 80/80\n",
            "2023/2023 [==============================] - 8s 4ms/step - loss: 1.6427 - accuracy: 0.3481 - val_loss: 1.6181 - val_accuracy: 0.3541\n"
          ]
        }
      ]
    },
    {
      "cell_type": "code",
      "source": [
        "hist = pd.DataFrame(history.history)\n",
        "fig, ax = plt.subplots()\n",
        "ax.plot(hist.index, hist['loss'])\n",
        "ax.plot(hist.index, hist['val_loss'])\n",
        "ax.set_ylabel('loss')\n",
        "ax.legend([\"train\", \"val\"], loc=\"upper left\")\n",
        "ax2 = ax.twinx()\n",
        "ax2.plot(hist.index, hist['accuracy'], 'r--')\n",
        "ax2.plot(hist.index, hist['val_accuracy'], 'b--')\n",
        "ax2.set_ylabel('accuracy')\n",
        "ax2.legend([\"train\", \"val\"], loc=\"upper right\")\n",
        "ax.set_xlabel('epochs')"
      ],
      "metadata": {
        "colab": {
          "base_uri": "https://localhost:8080/",
          "height": 297
        },
        "id": "SiVpHX_Im4NY",
        "outputId": "3d0c1ec7-bd07-4860-b7fe-94fed555cc81"
      },
      "execution_count": 25,
      "outputs": [
        {
          "output_type": "execute_result",
          "data": {
            "text/plain": [
              "Text(0.5, 0, 'epochs')"
            ]
          },
          "metadata": {},
          "execution_count": 25
        },
        {
          "output_type": "display_data",
          "data": {
            "text/plain": [
              "<Figure size 432x288 with 2 Axes>"
            ],
            "image/png": "[encoded data removed]"
          },
          "metadata": {
            "needs_background": "light"
          }
        }
      ]
    },
    {
      "cell_type": "code",
      "source": [
        "watched = list(merged_df[merged_df.userId == uid]['mid_enc'])\n",
        "unwatched = [i for i in range(min(merged_df['mid_enc']), max(merged_df['mid_enc']) + 1) if i not in watched]"
      ],
      "metadata": {
        "id": "zDy_BsdsnNaw"
      },
      "execution_count": 41,
      "outputs": []
    },
    {
      "cell_type": "code",
      "source": [
        "encoded_uid = user_encoder.transform([uid])\n",
        "user_movie_array = [np.asarray(\n",
        "    list(encoded_uid) * len(unwatched)), \n",
        "    np.asarray(unwatched)\n",
        "    ]"
      ],
      "metadata": {
        "id": "ryG4dz-usZjW"
      },
      "execution_count": 42,
      "outputs": []
    },
    {
      "cell_type": "code",
      "source": [
        "# probability of each possible rating from 0.5 to 5\n",
        "pred_ratings = model.predict(user_movie_array)\n",
        "\n",
        "# use index to represent rating value\n",
        "pred_ratings = pred_ratings.argmax(1)\n",
        "\n",
        "# indices that sort the array by ascending order\n",
        "sorted_movie_indices = pred_ratings.argsort()\n",
        "\n",
        "# reverse indices to get top rated movies\n",
        "recommended_movie_indices = sorted_movie_indices[::-1]\n",
        "print(recommended_movie_indices)\n"
      ],
      "metadata": {
        "colab": {
          "base_uri": "https://localhost:8080/"
        },
        "id": "lctspMPlsk9O",
        "outputId": "3ca21b65-17b0-4efe-f8f0-a10cf41e9369"
      },
      "execution_count": 55,
      "outputs": [
        {
          "output_type": "stream",
          "name": "stdout",
          "text": [
            "450/450 [==============================] - 1s 1ms/step\n",
            "[4174 4885 6567 ... 1734  510  177]\n"
          ]
        }
      ]
    },
    {
      "cell_type": "code",
      "source": [
        "recommended_movies_ids = movie_encoder.inverse_transform(recommended_movie_indices)\n",
        "\n",
        "# list top n recommendations\n",
        "for i in range(top_n):\n",
        "  print(movies_df1[movies_df1.movieId==recommended_movies_ids[i]].title.values.item())"
      ],
      "metadata": {
        "colab": {
          "base_uri": "https://localhost:8080/"
        },
        "id": "lBmBeUxNtEpr",
        "outputId": "3427c293-3fab-4432-87b2-b26284a506ed"
      },
      "execution_count": 56,
      "outputs": [
        {
          "output_type": "stream",
          "name": "stdout",
          "text": [
            "Funny Girl (1968)\n",
            "Victory (a.k.a. Escape to Victory) (1981)\n",
            "Heaven Can Wait (1943)\n",
            "Baby Mama (2008)\n",
            "Jimmy Neutron: Boy Genius (2001)\n",
            "Bunraku (2010)\n",
            "Three Times (2005)\n",
            "Another Cinderella Story (2008)\n",
            "Hercules (2014)\n",
            "They (2002)\n",
            "My Kingdom (2001)\n",
            "Visitor, The (2007)\n",
            "The Alamo (2004)\n",
            "Equilibrium (2002)\n",
            "Muppets, The (2011)\n"
          ]
        }
      ]
    }
  ],
  "metadata": {
    "colab": {
      "provenance": [],
      "machine_shape": "hm"
    },
    "kernelspec": {
      "display_name": "Python 3.9.5 ('py39')",
      "language": "python",
      "name": "python3"
    },
    "language_info": {
      "codemirror_mode": {
        "name": "ipython",
        "version": 3
      },
      "file_extension": ".py",
      "mimetype": "text/x-python",
      "name": "python",
      "nbconvert_exporter": "python",
      "pygments_lexer": "ipython3",
      "version": "3.9.5"
    },
    "toc": {
      "base_numbering": 1,
      "nav_menu": {},
      "number_sections": true,
      "sideBar": true,
      "skip_h1_title": false,
      "title_cell": "Table of Contents",
      "title_sidebar": "Contents",
      "toc_cell": false,
      "toc_position": {},
      "toc_section_display": true,
      "toc_window_display": false
    },
    "varInspector": {
      "cols": {
        "lenName": 16,
        "lenType": 16,
        "lenVar": 40
      },
      "kernels_config": {
        "python": {
          "delete_cmd_postfix": "",
          "delete_cmd_prefix": "del ",
          "library": "var_list.py",
          "varRefreshCmd": "print(var_dic_list())"
        },
        "r": {
          "delete_cmd_postfix": ") ",
          "delete_cmd_prefix": "rm(",
          "library": "var_list.r",
          "varRefreshCmd": "cat(var_dic_list()) "
        }
      },
      "types_to_exclude": [
        "module",
        "function",
        "builtin_function_or_method",
        "instance",
        "_Feature"
      ],
      "window_display": false
    },
    "vscode": {
      "interpreter": {
        "hash": "6138145e4784380e1f1a9e0b3a425090f2d7bf523244cfd3d9349770cb357c3f"
      }
    },
    "accelerator": "GPU",
    "gpuClass": "standard"
  },
  "nbformat": 4,
  "nbformat_minor": 0
}