{
  "nbformat": 4,
  "nbformat_minor": 0,
  "metadata": {
    "colab": {
      "provenance": []
    },
    "kernelspec": {
      "name": "python3",
      "display_name": "Python 3"
    },
    "language_info": {
      "name": "python"
    }
  },
  "cells": [
    {
      "cell_type": "code",
      "source": [
        "import pandas as pd"
      ],
      "metadata": {
        "id": "gbt0xDerR4wM"
      },
      "execution_count": 1,
      "outputs": []
    },
    {
      "cell_type": "code",
      "source": [
        "import os\n",
        "from google.colab import drive\n",
        "drive.mount('/content/gdrive')\n",
        "os.chdir('/content/gdrive/My Drive/AML Project Group 20/ml-25m')"
      ],
      "metadata": {
        "colab": {
          "base_uri": "https://localhost:8080/"
        },
        "id": "0b9s5X5qRVSm",
        "outputId": "2d0d69ba-4fff-4741-fa9a-775d5bbb8712"
      },
      "execution_count": 2,
      "outputs": [
        {
          "output_type": "stream",
          "name": "stdout",
          "text": [
            "Drive already mounted at /content/gdrive; to attempt to forcibly remount, call drive.mount(\"/content/gdrive\", force_remount=True).\n"
          ]
        }
      ]
    },
    {
      "cell_type": "markdown",
      "source": [
        "# Data Loading and Preprocessing"
      ],
      "metadata": {
        "id": "cbq7JZGEXBSS"
      }
    },
    {
      "cell_type": "code",
      "source": [
        "# Load data\n",
        "movie = pd.read_csv('movies.csv')\n",
        "rating = pd.read_csv('ratings.csv')\n",
        "\n",
        "# Merging dataframes on movieId\n",
        "df = movie.merge(rating, how=\"left\", on=\"movieId\")\n",
        "\n",
        "df.head()\n",
        "df.info()\n",
        "\n",
        "# Counting titles and assigning as comment_counts \n",
        "comment_counts = pd.DataFrame(df[\"title\"].value_counts())\n",
        "\n",
        "# exclude movies with rare comments\n",
        "rare_movies = comment_counts[comment_counts[\"title\"] <= 3000].index\n",
        "common_movies = df[~df[\"title\"].isin(rare_movies)]\n",
        "\n",
        "# Show user ratings by considering userid and movie names and assign the resulting pivot table as user_movie_df\n",
        "user_movie_df = common_movies.pivot_table(index=[\"userId\"], columns=[\"title\"], values=\"rating\")\n",
        "\n",
        "# Determining the random user to suggest\n",
        "# random_user = int(pd.Series(user_movie_df.index).sample(1, random_state=45).values)\n",
        "# print(random_user)\n",
        "# In this case i will use the following id\n",
        "random_user = 108170"
      ],
      "metadata": {
        "colab": {
          "base_uri": "https://localhost:8080/"
        },
        "id": "5Q2JPHGbRWfC",
        "outputId": "3f9de80b-7654-499d-c0fd-47bd69819d31"
      },
      "execution_count": 3,
      "outputs": [
        {
          "output_type": "stream",
          "name": "stdout",
          "text": [
            "<class 'pandas.core.frame.DataFrame'>\n",
            "Int64Index: 25003471 entries, 0 to 25003470\n",
            "Data columns (total 6 columns):\n",
            " #   Column     Dtype  \n",
            "---  ------     -----  \n",
            " 0   movieId    int64  \n",
            " 1   title      object \n",
            " 2   genres     object \n",
            " 3   userId     float64\n",
            " 4   rating     float64\n",
            " 5   timestamp  float64\n",
            "dtypes: float64(3), int64(1), object(2)\n",
            "memory usage: 1.3+ GB\n"
          ]
        }
      ]
    },
    {
      "cell_type": "markdown",
      "source": [
        "# User-based Recommendation\n"
      ],
      "metadata": {
        "id": "ip9z0ai0XH1y"
      }
    },
    {
      "cell_type": "code",
      "source": [
        "# Determining the movies watched by the user to be suggested.\n",
        "\n",
        "# Assining random user as df\n",
        "random_user_df = user_movie_df[user_movie_df.index == random_user]\n",
        "\n",
        "# Assining the movies watched by random user as df\n",
        "movies_watched_random_user = random_user_df.columns[random_user_df.notna().any()].tolist()\n",
        "\n",
        "# Number of movies watched by random user\n",
        "len(movies_watched_random_user)"
      ],
      "metadata": {
        "colab": {
          "base_uri": "https://localhost:8080/"
        },
        "id": "Ns2DE9bIRm-k",
        "outputId": "403f7538-cd5d-4848-b77d-21dd138ccb21"
      },
      "execution_count": 4,
      "outputs": [
        {
          "output_type": "execute_result",
          "data": {
            "text/plain": [
              "44"
            ]
          },
          "metadata": {},
          "execution_count": 4
        }
      ]
    },
    {
      "cell_type": "code",
      "source": [
        "# Detecting the ids of other users watching the same movies\n",
        "\n",
        "# Shooting the watched movies with the audience ids in df\n",
        "movies_watched_df = user_movie_df[movies_watched_random_user]\n",
        "movies_watched_df.head()\n",
        "movies_watched_df.shape\n",
        "\n",
        "# Calculating how many of the movies watched by the users are the movies watched by the random user\n",
        "user_movie_count = movies_watched_df.T.notnull().sum()\n",
        "user_movie_count = user_movie_count.reset_index()\n",
        "user_movie_count.columns = [\"userId\", \"movie_count\"]\n",
        "\n",
        "# Selecting users with more than 60 percent similarity to recommend\n",
        "perc = len(movies_watched_random_user) * 60 / 100\n",
        "users_same_movies = user_movie_count[user_movie_count[\"movie_count\"] > perc][\"userId\"]\n",
        "\n",
        "# Checking the selected users\n",
        "users_same_movies.head()\n",
        "users_same_movies.count()\n",
        "users_same_movies.index"
      ],
      "metadata": {
        "colab": {
          "base_uri": "https://localhost:8080/"
        },
        "id": "CZrYgcZ4Rpsl",
        "outputId": "aed66d79-9c5a-4c7c-933b-e8b44003457c"
      },
      "execution_count": 5,
      "outputs": [
        {
          "output_type": "execute_result",
          "data": {
            "text/plain": [
              "Int64Index([   170,    320,    425,    430,    439,    540,    547,    647,\n",
              "               756,    845,\n",
              "            ...\n",
              "            161963, 162034, 162158, 162258, 162283, 162374, 162381, 162471,\n",
              "            162482, 162503],\n",
              "           dtype='int64', length=3898)"
            ]
          },
          "metadata": {},
          "execution_count": 5
        }
      ]
    },
    {
      "cell_type": "code",
      "source": [
        "# Determining the users who are most similar to the user to be suggested\n",
        "\n",
        "# Creating the final df\n",
        "final_df = movies_watched_df[movies_watched_df.index.isin(users_same_movies)]\n",
        "final_df.head()\n",
        "final_df.shape\n",
        "\n",
        "# Examining the relationship between selected users and each other\n",
        "corr_df = final_df.T.corr().unstack().sort_values()\n",
        "corr_df = pd.DataFrame(corr_df, columns=[\"corr\"])\n",
        "corr_df.index.names = ['user_id_1', 'user_id_2']\n",
        "corr_df = corr_df.reset_index()\n",
        "corr_df.head()\n",
        "\n",
        "# Examining the relationship between random user and selected users\n",
        "top_users = corr_df[(corr_df[\"user_id_1\"] == random_user) & (corr_df[\"corr\"] >= 0.65)][\n",
        "    [\"user_id_2\", \"corr\"]].reset_index(drop=True)\n",
        "top_users = top_users.sort_values(by='corr', ascending=False)\n",
        "top_users.rename(columns={\"user_id_2\": \"userId\"}, inplace=True)"
      ],
      "metadata": {
        "id": "k28QrXszSvqh"
      },
      "execution_count": 6,
      "outputs": []
    },
    {
      "cell_type": "code",
      "source": [
        "# Weighted average recommendation score\n",
        "top_users_ratings = top_users.merge(rating[[\"userId\", \"movieId\", \"rating\"]], how='inner')\n",
        "top_users_ratings = top_users_ratings[top_users_ratings[\"userId\"] != random_user]\n",
        "top_users_ratings['weighted_rating'] = top_users_ratings['corr'] * top_users_ratings['rating']\n",
        "\n",
        "# Recommendation_df\n",
        "recommendation_df = top_users_ratings.groupby('movieId').agg({\"weighted_rating\": \"mean\"})\n",
        "recommendation_df = recommendation_df.reset_index()\n",
        "\n",
        "# User-based recommendation\n",
        "movies_to_be_recommend = recommendation_df[recommendation_df[\"weighted_rating\"] > 3.5].sort_values(\"weighted_rating\",\n",
        "                                                                                                   ascending=False)\n",
        "movies_to_be_recommend = movies_to_be_recommend.merge(movie[[\"movieId\", \"title\"]])[0:5]\n",
        "print(movies_to_be_recommend)"
      ],
      "metadata": {
        "colab": {
          "base_uri": "https://localhost:8080/"
        },
        "id": "fY3Gl5i8Sx2J",
        "outputId": "36e41ed7-f9c7-42fe-d0d9-edeece8f7f7e"
      },
      "execution_count": 7,
      "outputs": [
        {
          "output_type": "stream",
          "name": "stdout",
          "text": [
            "   movieId  weighted_rating                                              title\n",
            "0      501         3.944607                                       Naked (1993)\n",
            "1     3823         3.944607                                  Wonderland (1999)\n",
            "2    27317         3.944607                          Audition (Ôdishon) (1999)\n",
            "3     7043         3.944607  Vivre sa vie: Film en douze tableaux (My Life ...\n",
            "4     5951         3.944607                              Morvern Callar (2002)\n"
          ]
        }
      ]
    },
    {
      "cell_type": "code",
      "source": [
        "# Selection of the user's most recent highest rated movie\n",
        "user = 108170\n",
        "movie_id = rating[(rating[\"userId\"] == user) & (rating[\"rating\"] == 5.0)]. \\\n",
        "               sort_values(by=\"timestamp\", ascending=False)[\"movieId\"][0:1].values[0]\n",
        "print(movie_id)"
      ],
      "metadata": {
        "colab": {
          "base_uri": "https://localhost:8080/"
        },
        "id": "PPy6domoSzTV",
        "outputId": "215be21b-c58d-4355-fb40-33baace1ce19"
      },
      "execution_count": 8,
      "outputs": [
        {
          "output_type": "stream",
          "name": "stdout",
          "text": [
            "4979\n"
          ]
        }
      ]
    },
    {
      "cell_type": "markdown",
      "source": [
        "# Item-based recommendation"
      ],
      "metadata": {
        "id": "pMv92ytQXUaD"
      }
    },
    {
      "cell_type": "code",
      "source": [
        "def item_based_recommender(movie_name, user_movie_df):\n",
        "    movie = user_movie_df[movie_name]\n",
        "    return user_movie_df.corrwith(movie).sort_values(ascending=False).head(10)"
      ],
      "metadata": {
        "id": "Xq0ZvgjyZ4i1"
      },
      "execution_count": 32,
      "outputs": []
    },
    {
      "cell_type": "code",
      "source": [
        "movies_from_item_based = item_based_recommender(movie[movie[\"movieId\"] == movie_id][\"title\"].values[0], user_movie_df)"
      ],
      "metadata": {
        "id": "iroOb8dUZ69K"
      },
      "execution_count": 33,
      "outputs": []
    },
    {
      "cell_type": "code",
      "source": [
        "#1 to 6th. 0 has the movie itself. We left him out.\n",
        "movies_from_item_based[1:6]"
      ],
      "metadata": {
        "colab": {
          "base_uri": "https://localhost:8080/"
        },
        "id": "0QZ6s57cZ-Ql",
        "outputId": "2bbd2691-0f18-4f89-a146-a72e1c613a22"
      },
      "execution_count": 34,
      "outputs": [
        {
          "output_type": "execute_result",
          "data": {
            "text/plain": [
              "title\n",
              "Life Aquatic with Steve Zissou, The (2004)    0.548138\n",
              "Rushmore (1998)                               0.544014\n",
              "Darjeeling Limited, The (2007)                0.499189\n",
              "Grand Budapest Hotel, The (2014)              0.444453\n",
              "Moonrise Kingdom (2012)                       0.419742\n",
              "dtype: float64"
            ]
          },
          "metadata": {},
          "execution_count": 34
        }
      ]
    }
  ]
}